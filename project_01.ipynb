{
 "cells": [
  {
   "cell_type": "markdown",
   "metadata": {},
   "source": [
    "# Исследование надёжности заёмщиков\n",
    "\n",
    "Заказчик — кредитный отдел банка. Нужно разобраться, влияет ли семейное положение и количество детей клиента на факт погашения кредита в срок. Входные данные от банка — статистика о платёжеспособности клиентов.\n",
    "\n",
    "Результаты исследования будут учтены при построении модели **кредитного скоринга** — специальной системы, которая оценивает способность потенциального заёмщика вернуть кредит банку."
   ]
  },
  {
   "cell_type": "markdown",
   "metadata": {},
   "source": [
    "**Цель исследования** — ответить на следующие вопросы:\n",
    "1. Есть ли зависимость между наличием детей и возвратом кредита в срок?\n",
    "2. Есть ли зависимость между семейным положением и возвратом кредита в срок?\n",
    "3. Есть ли зависимость между уровнем дохода и возвратом кредита в срок?\n",
    "4. Как разные цели кредита влияют на его возврат в срок?"
   ]
  },
  {
   "cell_type": "markdown",
   "metadata": {},
   "source": [
    "**Ход исследования** Данные о платежеспособности клиентов мы получим из файла data.csv. О качестве данных ничего не известно. Поэтому перед ответами на вопросы понадобится обзор данных."
   ]
  },
  {
   "cell_type": "markdown",
   "metadata": {},
   "source": [
    "Мы проверим данные на наличие пропусков, дубликатов и аномальных значений, и оценим их влияние на исследование. Затем, на этапе предобработки мы поищем возможность исправить самые критичные ошибки данных, затем лемматизируем и категоризируем данные для удобства исследования. "
   ]
  },
  {
   "cell_type": "markdown",
   "metadata": {},
   "source": [
    "Таким образом, исследование пройдёт в три этапа:"
   ]
  },
  {
   "cell_type": "markdown",
   "metadata": {},
   "source": [
    "1. Обзор данных.\n",
    "2. Предобработка данных.\n",
    "3. Ответы на вопросы"
   ]
  },
  {
   "cell_type": "markdown",
   "metadata": {},
   "source": [
    "## Шаг 1. Откройте файл с данными и изучите общую информацию"
   ]
  },
  {
   "cell_type": "code",
   "execution_count": 1,
   "metadata": {},
   "outputs": [],
   "source": [
    "import pandas as pd\n",
    "import seaborn as sns\n",
    "import matplotlib.pyplot as plt\n",
    "from pymystem3 import Mystem \n",
    "import numpy as np "
   ]
  },
  {
   "cell_type": "code",
   "execution_count": 2,
   "metadata": {
    "scrolled": true
   },
   "outputs": [
    {
     "data": {
      "text/html": [
       "<div>\n",
       "<style scoped>\n",
       "    .dataframe tbody tr th:only-of-type {\n",
       "        vertical-align: middle;\n",
       "    }\n",
       "\n",
       "    .dataframe tbody tr th {\n",
       "        vertical-align: top;\n",
       "    }\n",
       "\n",
       "    .dataframe thead th {\n",
       "        text-align: right;\n",
       "    }\n",
       "</style>\n",
       "<table border=\"1\" class=\"dataframe\">\n",
       "  <thead>\n",
       "    <tr style=\"text-align: right;\">\n",
       "      <th></th>\n",
       "      <th>children</th>\n",
       "      <th>days_employed</th>\n",
       "      <th>dob_years</th>\n",
       "      <th>education</th>\n",
       "      <th>education_id</th>\n",
       "      <th>family_status</th>\n",
       "      <th>family_status_id</th>\n",
       "      <th>gender</th>\n",
       "      <th>income_type</th>\n",
       "      <th>debt</th>\n",
       "      <th>total_income</th>\n",
       "      <th>purpose</th>\n",
       "    </tr>\n",
       "  </thead>\n",
       "  <tbody>\n",
       "    <tr>\n",
       "      <td>0</td>\n",
       "      <td>1</td>\n",
       "      <td>-8437.673028</td>\n",
       "      <td>42</td>\n",
       "      <td>высшее</td>\n",
       "      <td>0</td>\n",
       "      <td>женат / замужем</td>\n",
       "      <td>0</td>\n",
       "      <td>F</td>\n",
       "      <td>сотрудник</td>\n",
       "      <td>0</td>\n",
       "      <td>253875.639453</td>\n",
       "      <td>покупка жилья</td>\n",
       "    </tr>\n",
       "    <tr>\n",
       "      <td>1</td>\n",
       "      <td>1</td>\n",
       "      <td>-4024.803754</td>\n",
       "      <td>36</td>\n",
       "      <td>среднее</td>\n",
       "      <td>1</td>\n",
       "      <td>женат / замужем</td>\n",
       "      <td>0</td>\n",
       "      <td>F</td>\n",
       "      <td>сотрудник</td>\n",
       "      <td>0</td>\n",
       "      <td>112080.014102</td>\n",
       "      <td>приобретение автомобиля</td>\n",
       "    </tr>\n",
       "    <tr>\n",
       "      <td>2</td>\n",
       "      <td>0</td>\n",
       "      <td>-5623.422610</td>\n",
       "      <td>33</td>\n",
       "      <td>Среднее</td>\n",
       "      <td>1</td>\n",
       "      <td>женат / замужем</td>\n",
       "      <td>0</td>\n",
       "      <td>M</td>\n",
       "      <td>сотрудник</td>\n",
       "      <td>0</td>\n",
       "      <td>145885.952297</td>\n",
       "      <td>покупка жилья</td>\n",
       "    </tr>\n",
       "    <tr>\n",
       "      <td>3</td>\n",
       "      <td>3</td>\n",
       "      <td>-4124.747207</td>\n",
       "      <td>32</td>\n",
       "      <td>среднее</td>\n",
       "      <td>1</td>\n",
       "      <td>женат / замужем</td>\n",
       "      <td>0</td>\n",
       "      <td>M</td>\n",
       "      <td>сотрудник</td>\n",
       "      <td>0</td>\n",
       "      <td>267628.550329</td>\n",
       "      <td>дополнительное образование</td>\n",
       "    </tr>\n",
       "    <tr>\n",
       "      <td>4</td>\n",
       "      <td>0</td>\n",
       "      <td>340266.072047</td>\n",
       "      <td>53</td>\n",
       "      <td>среднее</td>\n",
       "      <td>1</td>\n",
       "      <td>гражданский брак</td>\n",
       "      <td>1</td>\n",
       "      <td>F</td>\n",
       "      <td>пенсионер</td>\n",
       "      <td>0</td>\n",
       "      <td>158616.077870</td>\n",
       "      <td>сыграть свадьбу</td>\n",
       "    </tr>\n",
       "  </tbody>\n",
       "</table>\n",
       "</div>"
      ],
      "text/plain": [
       "   children  days_employed  dob_years education  education_id  \\\n",
       "0         1   -8437.673028         42    высшее             0   \n",
       "1         1   -4024.803754         36   среднее             1   \n",
       "2         0   -5623.422610         33   Среднее             1   \n",
       "3         3   -4124.747207         32   среднее             1   \n",
       "4         0  340266.072047         53   среднее             1   \n",
       "\n",
       "      family_status  family_status_id gender income_type  debt   total_income  \\\n",
       "0   женат / замужем                 0      F   сотрудник     0  253875.639453   \n",
       "1   женат / замужем                 0      F   сотрудник     0  112080.014102   \n",
       "2   женат / замужем                 0      M   сотрудник     0  145885.952297   \n",
       "3   женат / замужем                 0      M   сотрудник     0  267628.550329   \n",
       "4  гражданский брак                 1      F   пенсионер     0  158616.077870   \n",
       "\n",
       "                      purpose  \n",
       "0               покупка жилья  \n",
       "1     приобретение автомобиля  \n",
       "2               покупка жилья  \n",
       "3  дополнительное образование  \n",
       "4             сыграть свадьбу  "
      ]
     },
     "metadata": {},
     "output_type": "display_data"
    }
   ],
   "source": [
    "df=pd.read_csv('/datasets/data.csv') # чтение файла с данными и сохранение в df\n",
    "display(df.head()) "
   ]
  },
  {
   "cell_type": "code",
   "execution_count": 3,
   "metadata": {},
   "outputs": [
    {
     "data": {
      "text/html": [
       "<div>\n",
       "<style scoped>\n",
       "    .dataframe tbody tr th:only-of-type {\n",
       "        vertical-align: middle;\n",
       "    }\n",
       "\n",
       "    .dataframe tbody tr th {\n",
       "        vertical-align: top;\n",
       "    }\n",
       "\n",
       "    .dataframe thead th {\n",
       "        text-align: right;\n",
       "    }\n",
       "</style>\n",
       "<table border=\"1\" class=\"dataframe\">\n",
       "  <thead>\n",
       "    <tr style=\"text-align: right;\">\n",
       "      <th></th>\n",
       "      <th>children</th>\n",
       "      <th>days_employed</th>\n",
       "      <th>dob_years</th>\n",
       "      <th>education</th>\n",
       "      <th>education_id</th>\n",
       "      <th>family_status</th>\n",
       "      <th>family_status_id</th>\n",
       "      <th>gender</th>\n",
       "      <th>income_type</th>\n",
       "      <th>debt</th>\n",
       "      <th>total_income</th>\n",
       "      <th>purpose</th>\n",
       "    </tr>\n",
       "  </thead>\n",
       "  <tbody>\n",
       "    <tr>\n",
       "      <td>21520</td>\n",
       "      <td>1</td>\n",
       "      <td>-4529.316663</td>\n",
       "      <td>43</td>\n",
       "      <td>среднее</td>\n",
       "      <td>1</td>\n",
       "      <td>гражданский брак</td>\n",
       "      <td>1</td>\n",
       "      <td>F</td>\n",
       "      <td>компаньон</td>\n",
       "      <td>0</td>\n",
       "      <td>224791.862382</td>\n",
       "      <td>операции с жильем</td>\n",
       "    </tr>\n",
       "    <tr>\n",
       "      <td>21521</td>\n",
       "      <td>0</td>\n",
       "      <td>343937.404131</td>\n",
       "      <td>67</td>\n",
       "      <td>среднее</td>\n",
       "      <td>1</td>\n",
       "      <td>женат / замужем</td>\n",
       "      <td>0</td>\n",
       "      <td>F</td>\n",
       "      <td>пенсионер</td>\n",
       "      <td>0</td>\n",
       "      <td>155999.806512</td>\n",
       "      <td>сделка с автомобилем</td>\n",
       "    </tr>\n",
       "    <tr>\n",
       "      <td>21522</td>\n",
       "      <td>1</td>\n",
       "      <td>-2113.346888</td>\n",
       "      <td>38</td>\n",
       "      <td>среднее</td>\n",
       "      <td>1</td>\n",
       "      <td>гражданский брак</td>\n",
       "      <td>1</td>\n",
       "      <td>M</td>\n",
       "      <td>сотрудник</td>\n",
       "      <td>1</td>\n",
       "      <td>89672.561153</td>\n",
       "      <td>недвижимость</td>\n",
       "    </tr>\n",
       "    <tr>\n",
       "      <td>21523</td>\n",
       "      <td>3</td>\n",
       "      <td>-3112.481705</td>\n",
       "      <td>38</td>\n",
       "      <td>среднее</td>\n",
       "      <td>1</td>\n",
       "      <td>женат / замужем</td>\n",
       "      <td>0</td>\n",
       "      <td>M</td>\n",
       "      <td>сотрудник</td>\n",
       "      <td>1</td>\n",
       "      <td>244093.050500</td>\n",
       "      <td>на покупку своего автомобиля</td>\n",
       "    </tr>\n",
       "    <tr>\n",
       "      <td>21524</td>\n",
       "      <td>2</td>\n",
       "      <td>-1984.507589</td>\n",
       "      <td>40</td>\n",
       "      <td>среднее</td>\n",
       "      <td>1</td>\n",
       "      <td>женат / замужем</td>\n",
       "      <td>0</td>\n",
       "      <td>F</td>\n",
       "      <td>сотрудник</td>\n",
       "      <td>0</td>\n",
       "      <td>82047.418899</td>\n",
       "      <td>на покупку автомобиля</td>\n",
       "    </tr>\n",
       "  </tbody>\n",
       "</table>\n",
       "</div>"
      ],
      "text/plain": [
       "       children  days_employed  dob_years education  education_id  \\\n",
       "21520         1   -4529.316663         43   среднее             1   \n",
       "21521         0  343937.404131         67   среднее             1   \n",
       "21522         1   -2113.346888         38   среднее             1   \n",
       "21523         3   -3112.481705         38   среднее             1   \n",
       "21524         2   -1984.507589         40   среднее             1   \n",
       "\n",
       "          family_status  family_status_id gender income_type  debt  \\\n",
       "21520  гражданский брак                 1      F   компаньон     0   \n",
       "21521   женат / замужем                 0      F   пенсионер     0   \n",
       "21522  гражданский брак                 1      M   сотрудник     1   \n",
       "21523   женат / замужем                 0      M   сотрудник     1   \n",
       "21524   женат / замужем                 0      F   сотрудник     0   \n",
       "\n",
       "        total_income                       purpose  \n",
       "21520  224791.862382             операции с жильем  \n",
       "21521  155999.806512          сделка с автомобилем  \n",
       "21522   89672.561153                  недвижимость  \n",
       "21523  244093.050500  на покупку своего автомобиля  \n",
       "21524   82047.418899         на покупку автомобиля  "
      ]
     },
     "metadata": {},
     "output_type": "display_data"
    }
   ],
   "source": [
    "display(df.tail()) "
   ]
  },
  {
   "cell_type": "code",
   "execution_count": 4,
   "metadata": {},
   "outputs": [
    {
     "data": {
      "text/html": [
       "<div>\n",
       "<style scoped>\n",
       "    .dataframe tbody tr th:only-of-type {\n",
       "        vertical-align: middle;\n",
       "    }\n",
       "\n",
       "    .dataframe tbody tr th {\n",
       "        vertical-align: top;\n",
       "    }\n",
       "\n",
       "    .dataframe thead th {\n",
       "        text-align: right;\n",
       "    }\n",
       "</style>\n",
       "<table border=\"1\" class=\"dataframe\">\n",
       "  <thead>\n",
       "    <tr style=\"text-align: right;\">\n",
       "      <th></th>\n",
       "      <th>count</th>\n",
       "      <th>mean</th>\n",
       "      <th>std</th>\n",
       "      <th>min</th>\n",
       "      <th>25%</th>\n",
       "      <th>50%</th>\n",
       "      <th>75%</th>\n",
       "      <th>max</th>\n",
       "    </tr>\n",
       "  </thead>\n",
       "  <tbody>\n",
       "    <tr>\n",
       "      <td>children</td>\n",
       "      <td>21525.0</td>\n",
       "      <td>0.538908</td>\n",
       "      <td>1.381587</td>\n",
       "      <td>-1.000000</td>\n",
       "      <td>0.000000</td>\n",
       "      <td>0.000000</td>\n",
       "      <td>1.000000</td>\n",
       "      <td>2.000000e+01</td>\n",
       "    </tr>\n",
       "    <tr>\n",
       "      <td>days_employed</td>\n",
       "      <td>19351.0</td>\n",
       "      <td>63046.497661</td>\n",
       "      <td>140827.311974</td>\n",
       "      <td>-18388.949901</td>\n",
       "      <td>-2747.423625</td>\n",
       "      <td>-1203.369529</td>\n",
       "      <td>-291.095954</td>\n",
       "      <td>4.017554e+05</td>\n",
       "    </tr>\n",
       "    <tr>\n",
       "      <td>dob_years</td>\n",
       "      <td>21525.0</td>\n",
       "      <td>43.293380</td>\n",
       "      <td>12.574584</td>\n",
       "      <td>0.000000</td>\n",
       "      <td>33.000000</td>\n",
       "      <td>42.000000</td>\n",
       "      <td>53.000000</td>\n",
       "      <td>7.500000e+01</td>\n",
       "    </tr>\n",
       "    <tr>\n",
       "      <td>education_id</td>\n",
       "      <td>21525.0</td>\n",
       "      <td>0.817236</td>\n",
       "      <td>0.548138</td>\n",
       "      <td>0.000000</td>\n",
       "      <td>1.000000</td>\n",
       "      <td>1.000000</td>\n",
       "      <td>1.000000</td>\n",
       "      <td>4.000000e+00</td>\n",
       "    </tr>\n",
       "    <tr>\n",
       "      <td>family_status_id</td>\n",
       "      <td>21525.0</td>\n",
       "      <td>0.972544</td>\n",
       "      <td>1.420324</td>\n",
       "      <td>0.000000</td>\n",
       "      <td>0.000000</td>\n",
       "      <td>0.000000</td>\n",
       "      <td>1.000000</td>\n",
       "      <td>4.000000e+00</td>\n",
       "    </tr>\n",
       "    <tr>\n",
       "      <td>debt</td>\n",
       "      <td>21525.0</td>\n",
       "      <td>0.080883</td>\n",
       "      <td>0.272661</td>\n",
       "      <td>0.000000</td>\n",
       "      <td>0.000000</td>\n",
       "      <td>0.000000</td>\n",
       "      <td>0.000000</td>\n",
       "      <td>1.000000e+00</td>\n",
       "    </tr>\n",
       "    <tr>\n",
       "      <td>total_income</td>\n",
       "      <td>19351.0</td>\n",
       "      <td>167422.302208</td>\n",
       "      <td>102971.566448</td>\n",
       "      <td>20667.263793</td>\n",
       "      <td>103053.152913</td>\n",
       "      <td>145017.937533</td>\n",
       "      <td>203435.067663</td>\n",
       "      <td>2.265604e+06</td>\n",
       "    </tr>\n",
       "  </tbody>\n",
       "</table>\n",
       "</div>"
      ],
      "text/plain": [
       "                    count           mean            std           min  \\\n",
       "children          21525.0       0.538908       1.381587     -1.000000   \n",
       "days_employed     19351.0   63046.497661  140827.311974 -18388.949901   \n",
       "dob_years         21525.0      43.293380      12.574584      0.000000   \n",
       "education_id      21525.0       0.817236       0.548138      0.000000   \n",
       "family_status_id  21525.0       0.972544       1.420324      0.000000   \n",
       "debt              21525.0       0.080883       0.272661      0.000000   \n",
       "total_income      19351.0  167422.302208  102971.566448  20667.263793   \n",
       "\n",
       "                            25%            50%            75%           max  \n",
       "children               0.000000       0.000000       1.000000  2.000000e+01  \n",
       "days_employed      -2747.423625   -1203.369529    -291.095954  4.017554e+05  \n",
       "dob_years             33.000000      42.000000      53.000000  7.500000e+01  \n",
       "education_id           1.000000       1.000000       1.000000  4.000000e+00  \n",
       "family_status_id       0.000000       0.000000       1.000000  4.000000e+00  \n",
       "debt                   0.000000       0.000000       0.000000  1.000000e+00  \n",
       "total_income      103053.152913  145017.937533  203435.067663  2.265604e+06  "
      ]
     },
     "metadata": {},
     "output_type": "display_data"
    }
   ],
   "source": [
    "display(df.describe().T) "
   ]
  },
  {
   "cell_type": "markdown",
   "metadata": {},
   "source": [
    "**Вывод**"
   ]
  },
  {
   "cell_type": "markdown",
   "metadata": {},
   "source": [
    "Предварительно можно утверждать, что, данных достаточно для ответа на поставленные вопросы. Но встречаются пропуски в данных, а в некоторых столбцах встречаются аномальные значения.\n",
    "\n",
    "Чтобы двигаться дальше, нужно устранить проблемы в данных."
   ]
  },
  {
   "cell_type": "markdown",
   "metadata": {},
   "source": [
    "## Шаг 2. Предобработка данных\n"
   ]
  },
  {
   "cell_type": "markdown",
   "metadata": {},
   "source": [
    "### Обработка пропусков"
   ]
  },
  {
   "cell_type": "code",
   "execution_count": 5,
   "metadata": {},
   "outputs": [
    {
     "name": "stdout",
     "output_type": "stream",
     "text": [
      "<class 'pandas.core.frame.DataFrame'>\n",
      "RangeIndex: 21525 entries, 0 to 21524\n",
      "Data columns (total 12 columns):\n",
      "children            21525 non-null int64\n",
      "days_employed       19351 non-null float64\n",
      "dob_years           21525 non-null int64\n",
      "education           21525 non-null object\n",
      "education_id        21525 non-null int64\n",
      "family_status       21525 non-null object\n",
      "family_status_id    21525 non-null int64\n",
      "gender              21525 non-null object\n",
      "income_type         21525 non-null object\n",
      "debt                21525 non-null int64\n",
      "total_income        19351 non-null float64\n",
      "purpose             21525 non-null object\n",
      "dtypes: float64(2), int64(5), object(5)\n",
      "memory usage: 11.3 MB\n"
     ]
    }
   ],
   "source": [
    "df.info(memory_usage='deep') # получение общей информации о данных в таблице df"
   ]
  },
  {
   "cell_type": "markdown",
   "metadata": {},
   "source": [
    "Итак, в таблице 12 столбцов: \n",
    "* 'children' — количество детей в семье\n",
    "* 'days_employed' — трудовой стаж в днях\n",
    "* 'dob_years' — возраст клиента в годах\n",
    "* 'education' — образование клиента\n",
    "* 'education_id' — идентификатор образования\n",
    "* 'family_status' — семейное положение\n",
    "* 'family_status_id' — идентификатор семейного положения\n",
    "* 'gender' — пол клиента\n",
    "* 'income_type' — тип занятости\n",
    "* 'debt' — имел ли задолженность по возврату кредитов\n",
    "* 'total_income' — доход в месяц\n",
    "* 'purpose' — цель получения кредита\n"
   ]
  },
  {
   "cell_type": "markdown",
   "metadata": {},
   "source": [
    "<div>На первый взгляд, лишь стобцы children и total_income имеют пропуски.</div>\n",
    "<div>Возможные причины пропущенных данных: клиенты никогда не были официально трудоустроены, или не имели официальный доход; клиенты сознательно предпочли не указывать стаж или доход; случайные пропуски.</div>"
   ]
  },
  {
   "cell_type": "markdown",
   "metadata": {},
   "source": [
    "<div>Можно заметить, что в столбце dob_years имеются отрицательные значения, а также большие по величине положительные значения. Можно предположить, что часть данных является разностью первого дня работы и дня заполнения таблицы, и поэтому являются отрицательными. Другие же другие данные скорее всего введены некорректно, например, стаж указан в часах.</div>"
   ]
  },
  {
   "cell_type": "markdown",
   "metadata": {},
   "source": [
    "<div>Ниже проверка данной гипотезы:</div>"
   ]
  },
  {
   "cell_type": "code",
   "execution_count": 6,
   "metadata": {
    "scrolled": true
   },
   "outputs": [
    {
     "data": {
      "image/png": "[encoded data removed]",
      "text/plain": [
       "<Figure size 432x288 with 1 Axes>"
      ]
     },
     "metadata": {},
     "output_type": "display_data"
    }
   ],
   "source": [
    "df_test=df.copy(deep=True) #создадим копию df для проверки гипотезы\n",
    "\n",
    "df_test['days_employed']=df_test['days_employed'].fillna(0) #временно заполню пропуски нулями\n",
    "df_test.loc[df_test['days_employed']>100000, 'days_employed'] /= 24 #деление каждого значения прревышающего определенный порог на 24\n",
    "df_test['days_employed']=abs(df_test['days_employed']).astype('int') #избавляюсь от отрицательных значений и меняю тип на int\n",
    "sns.set(style=\"darkgrid\")\n",
    "sns.distplot(df_test['days_employed'], kde=False) # график распределения по рабочему стажу\n",
    "plt.show()"
   ]
  },
  {
   "cell_type": "markdown",
   "metadata": {},
   "source": [
    "Из графика видно, что нельзя с уверенностью говорить, что данная аномалия вызвана некорректным форматом введенных данных (часы вместо дней). Для того, чтобы заполнить пропуски в столбце со стажем я буду использовать медианное значение.(Кроме того, значения данного столбца не влияют на условия поставленной задачи)"
   ]
  },
  {
   "cell_type": "code",
   "execution_count": 7,
   "metadata": {},
   "outputs": [],
   "source": [
    "df['days_employed']=df['days_employed'].fillna(df['days_employed'].median()) #заполнение пропусков медианными значениями\n",
    "df['total_income']=df['total_income'].fillna(df['total_income'].median()) #заполнение пропусков медианными значениями"
   ]
  },
  {
   "cell_type": "markdown",
   "metadata": {},
   "source": [
    "Проверка стобца 'dob_years'"
   ]
  },
  {
   "cell_type": "code",
   "execution_count": 8,
   "metadata": {},
   "outputs": [
    {
     "name": "stdout",
     "output_type": "stream",
     "text": [
      "[0, 19, 20, 21, 22, 23, 24, 25, 26, 27, 28, 29, 30, 31, 32, 33, 34, 35, 36, 37, 38, 39, 40, 41, 42, 43, 44, 45, 46, 47, 48, 49, 50, 51, 52, 53, 54, 55, 56, 57, 58, 59, 60, 61, 62, 63, 64, 65, 66, 67, 68, 69, 70, 71, 72, 73, 74, 75]\n"
     ]
    }
   ],
   "source": [
    "print(sorted(df['dob_years'].unique())) #вывод списка уникальных значений по возрастанию "
   ]
  },
  {
   "cell_type": "markdown",
   "metadata": {},
   "source": [
    "В списке присутствуют строки, в которых возраст равен 0. Изменим это значение на среднее."
   ]
  },
  {
   "cell_type": "code",
   "execution_count": 9,
   "metadata": {},
   "outputs": [
    {
     "name": "stdout",
     "output_type": "stream",
     "text": [
      "[19, 20, 21, 22, 23, 24, 25, 26, 27, 28, 29, 30, 31, 32, 33, 34, 35, 36, 37, 38, 39, 40, 41, 42, 43, 44, 45, 46, 47, 48, 49, 50, 51, 52, 53, 54, 55, 56, 57, 58, 59, 60, 61, 62, 63, 64, 65, 66, 67, 68, 69, 70, 71, 72, 73, 74, 75]\n"
     ]
    }
   ],
   "source": [
    "df.loc[df['dob_years'] == 0, 'dob_years'] = df['dob_years'].mean() #замена значений равных нулю на среднее в столбце\n",
    "df['dob_years']=df['dob_years'].astype('int') # изменение типа данных на int\n",
    "print(sorted(df['dob_years'].unique())) # проверка результата "
   ]
  },
  {
   "cell_type": "markdown",
   "metadata": {},
   "source": [
    "Проверка столбца 'children'"
   ]
  },
  {
   "cell_type": "code",
   "execution_count": 10,
   "metadata": {},
   "outputs": [
    {
     "name": "stdout",
     "output_type": "stream",
     "text": [
      "[ 1  0  3  2 -1  4 20  5]\n"
     ]
    }
   ],
   "source": [
    "print(df['children'].unique())"
   ]
  },
  {
   "cell_type": "markdown",
   "metadata": {},
   "source": [
    "В столбце 'children' присутствуют аномальные значения: -1 и 20. Избавимся от знака минус, а число 20 заменим на среднее значение.\n"
   ]
  },
  {
   "cell_type": "code",
   "execution_count": 11,
   "metadata": {},
   "outputs": [
    {
     "name": "stdout",
     "output_type": "stream",
     "text": [
      "[1.         0.         3.         2.         4.         0.54327526\n",
      " 5.        ]\n"
     ]
    }
   ],
   "source": [
    "df['children']=abs(df['children']) #избавляемся от минусов\n",
    "df.loc[df['children'] >5, 'children'] = df['children'].mean() # изменение значений превышающих 5 на среднее по столбцу\n",
    "print(df['children'].unique()) # проверка"
   ]
  },
  {
   "cell_type": "markdown",
   "metadata": {},
   "source": [
    "Проверка распределения уровня доходов в столбце 'total_income':"
   ]
  },
  {
   "cell_type": "code",
   "execution_count": 12,
   "metadata": {},
   "outputs": [
    {
     "data": {
      "image/png": "[encoded data removed]",
      "text/plain": [
       "<Figure size 432x288 with 1 Axes>"
      ]
     },
     "metadata": {},
     "output_type": "display_data"
    }
   ],
   "source": [
    "sns.set(style=\"darkgrid\")\n",
    "sns.distplot(df['total_income'],kde=False)\n",
    "plt.show()"
   ]
  },
  {
   "cell_type": "markdown",
   "metadata": {},
   "source": [
    "Проверим данные:"
   ]
  },
  {
   "cell_type": "code",
   "execution_count": 13,
   "metadata": {},
   "outputs": [
    {
     "name": "stdout",
     "output_type": "stream",
     "text": [
      "<class 'pandas.core.frame.DataFrame'>\n",
      "RangeIndex: 21525 entries, 0 to 21524\n",
      "Data columns (total 12 columns):\n",
      "children            21525 non-null float64\n",
      "days_employed       21525 non-null float64\n",
      "dob_years           21525 non-null int64\n",
      "education           21525 non-null object\n",
      "education_id        21525 non-null int64\n",
      "family_status       21525 non-null object\n",
      "family_status_id    21525 non-null int64\n",
      "gender              21525 non-null object\n",
      "income_type         21525 non-null object\n",
      "debt                21525 non-null int64\n",
      "total_income        21525 non-null float64\n",
      "purpose             21525 non-null object\n",
      "dtypes: float64(3), int64(4), object(5)\n",
      "memory usage: 2.0+ MB\n"
     ]
    }
   ],
   "source": [
    "df.info()"
   ]
  },
  {
   "cell_type": "markdown",
   "metadata": {},
   "source": [
    "**Вывод**\n",
    "Предобработка обнаружила три проблемы:\n",
    "* Пропуски в столбцах days_employed и total_income\n",
    "* Аномальные значения в столбцах days_employed, dob_years и children \n",
    "\n",
    "Пропуски были исправлены, а аномальные значения были изменены только в столбце children, так как одно из условий задачи - оценка зависимости наличия детей и возврата кредита в срок."
   ]
  },
  {
   "cell_type": "markdown",
   "metadata": {},
   "source": [
    "### Замена типа данных"
   ]
  },
  {
   "cell_type": "markdown",
   "metadata": {},
   "source": [
    "Для начала заменим числовые переменные:"
   ]
  },
  {
   "cell_type": "code",
   "execution_count": 14,
   "metadata": {},
   "outputs": [
    {
     "name": "stdout",
     "output_type": "stream",
     "text": [
      "<class 'pandas.core.frame.DataFrame'>\n",
      "RangeIndex: 21525 entries, 0 to 21524\n",
      "Data columns (total 12 columns):\n",
      "children            21525 non-null int8\n",
      "days_employed       21525 non-null int16\n",
      "dob_years           21525 non-null int8\n",
      "education           21525 non-null object\n",
      "education_id        21525 non-null int8\n",
      "family_status       21525 non-null object\n",
      "family_status_id    21525 non-null int8\n",
      "gender              21525 non-null object\n",
      "income_type         21525 non-null object\n",
      "debt                21525 non-null int8\n",
      "total_income        21525 non-null int32\n",
      "purpose             21525 non-null object\n",
      "dtypes: int16(1), int32(1), int8(5), object(5)\n",
      "memory usage: 10.4 MB\n"
     ]
    }
   ],
   "source": [
    "df['days_employed']=abs(df['days_employed']).astype('int16') #получаю модуль целочисленных значений столбца days_employed\n",
    "df['total_income']=abs(df['total_income']).astype('int32') #получаю модуль целочисленных значений столбца total_income\n",
    "df['children']=df['children'].astype('int8') \n",
    "df['dob_years']=df['dob_years'].astype('int8')\n",
    "df['education_id']=df['education_id'].astype('int8')\n",
    "df['family_status_id']=df['family_status_id'].astype('int8')\n",
    "df['debt']=df['debt'].astype('int8')\n",
    "df.info(memory_usage='deep') # проверка"
   ]
  },
  {
   "cell_type": "markdown",
   "metadata": {},
   "source": [
    "Теперь изменим категориальные переменные."
   ]
  },
  {
   "cell_type": "code",
   "execution_count": 15,
   "metadata": {},
   "outputs": [
    {
     "name": "stdout",
     "output_type": "stream",
     "text": [
      "<class 'pandas.core.frame.DataFrame'>\n",
      "RangeIndex: 21525 entries, 0 to 21524\n",
      "Data columns (total 12 columns):\n",
      "children            21525 non-null int8\n",
      "days_employed       21525 non-null int16\n",
      "dob_years           21525 non-null int8\n",
      "education           21525 non-null object\n",
      "education_id        21525 non-null int8\n",
      "family_status       21525 non-null category\n",
      "family_status_id    21525 non-null int8\n",
      "gender              21525 non-null object\n",
      "income_type         21525 non-null category\n",
      "debt                21525 non-null int8\n",
      "total_income        21525 non-null int32\n",
      "purpose             21525 non-null object\n",
      "dtypes: category(2), int16(1), int32(1), int8(5), object(3)\n",
      "memory usage: 6.0 MB\n"
     ]
    }
   ],
   "source": [
    "df['family_status']=df['family_status'].astype('category')\n",
    "df['income_type']=df['income_type'].astype('category')\n",
    "\n",
    "\n",
    "df.info(memory_usage='deep') # проверка\n"
   ]
  },
  {
   "cell_type": "markdown",
   "metadata": {},
   "source": [
    "**Вывод**"
   ]
  },
  {
   "cell_type": "markdown",
   "metadata": {},
   "source": [
    "Изменен вещественный вид исследуемых данных на целочисленный. Нам удалось уменьшить размер датафрейма с 11.3 Mb до 6.0 Mb. После обработки дубликатов снова воспользуюсь методом замены типа категориальных переменных."
   ]
  },
  {
   "cell_type": "markdown",
   "metadata": {},
   "source": [
    "### Обработка дубликатов"
   ]
  },
  {
   "cell_type": "markdown",
   "metadata": {},
   "source": [
    "Посмотрим, есть ли дубликаты в столбцах education, family_status и income_type"
   ]
  },
  {
   "cell_type": "code",
   "execution_count": 16,
   "metadata": {},
   "outputs": [
    {
     "name": "stdout",
     "output_type": "stream",
     "text": [
      "['высшее' 'среднее' 'Среднее' 'СРЕДНЕЕ' 'ВЫСШЕЕ' 'неоконченное высшее'\n",
      " 'начальное' 'Высшее' 'НЕОКОНЧЕННОЕ ВЫСШЕЕ' 'Неоконченное высшее'\n",
      " 'НАЧАЛЬНОЕ' 'Начальное' 'Ученая степень' 'УЧЕНАЯ СТЕПЕНЬ'\n",
      " 'ученая степень']\n",
      "[женат / замужем, гражданский брак, вдовец / вдова, в разводе, Не женат / не замужем]\n",
      "Categories (5, object): [женат / замужем, гражданский брак, вдовец / вдова, в разводе, Не женат / не замужем]\n",
      "[сотрудник, пенсионер, компаньон, госслужащий, безработный, предприниматель, студент, в декрете]\n",
      "Categories (8, object): [сотрудник, пенсионер, компаньон, госслужащий, безработный, предприниматель, студент, в декрете]\n"
     ]
    }
   ],
   "source": [
    "print(df['education'].unique())\n",
    "print(df['family_status'].unique())\n",
    "print(df['income_type'].unique())\n"
   ]
  },
  {
   "cell_type": "markdown",
   "metadata": {},
   "source": [
    "<div> Видим дубликаты в стобце education\n",
    "    </div>"
   ]
  },
  {
   "cell_type": "code",
   "execution_count": 17,
   "metadata": {},
   "outputs": [
    {
     "name": "stdout",
     "output_type": "stream",
     "text": [
      "среднее                15233\n",
      "высшее                  5260\n",
      "неоконченное высшее      744\n",
      "начальное                282\n",
      "ученая степень             6\n",
      "Name: education, dtype: int64\n"
     ]
    }
   ],
   "source": [
    "df['education']=df['education'].str.lower() #изменим тип регистра значений на нижний\n",
    "df['education']=df['education'].astype('category')\n",
    "print(df['education'].value_counts()) #повторная проверка на пропуски"
   ]
  },
  {
   "cell_type": "markdown",
   "metadata": {},
   "source": [
    "Проверим получившийся датафрейм"
   ]
  },
  {
   "cell_type": "code",
   "execution_count": 18,
   "metadata": {},
   "outputs": [
    {
     "name": "stdout",
     "output_type": "stream",
     "text": [
      "<class 'pandas.core.frame.DataFrame'>\n",
      "RangeIndex: 21525 entries, 0 to 21524\n",
      "Data columns (total 12 columns):\n",
      "children            21525 non-null int8\n",
      "days_employed       21525 non-null int16\n",
      "dob_years           21525 non-null int8\n",
      "education           21525 non-null category\n",
      "education_id        21525 non-null int8\n",
      "family_status       21525 non-null category\n",
      "family_status_id    21525 non-null int8\n",
      "gender              21525 non-null object\n",
      "income_type         21525 non-null category\n",
      "debt                21525 non-null int8\n",
      "total_income        21525 non-null int32\n",
      "purpose             21525 non-null object\n",
      "dtypes: category(3), int16(1), int32(1), int8(5), object(2)\n",
      "memory usage: 4.1 MB\n"
     ]
    }
   ],
   "source": [
    "df.info(memory_usage='deep') # проверка"
   ]
  },
  {
   "cell_type": "markdown",
   "metadata": {},
   "source": [
    "### Лемматизация"
   ]
  },
  {
   "cell_type": "code",
   "execution_count": 19,
   "metadata": {},
   "outputs": [
    {
     "data": {
      "text/html": [
       "<div>\n",
       "<style scoped>\n",
       "    .dataframe tbody tr th:only-of-type {\n",
       "        vertical-align: middle;\n",
       "    }\n",
       "\n",
       "    .dataframe tbody tr th {\n",
       "        vertical-align: top;\n",
       "    }\n",
       "\n",
       "    .dataframe thead th {\n",
       "        text-align: right;\n",
       "    }\n",
       "</style>\n",
       "<table border=\"1\" class=\"dataframe\">\n",
       "  <thead>\n",
       "    <tr style=\"text-align: right;\">\n",
       "      <th></th>\n",
       "      <th>children</th>\n",
       "      <th>days_employed</th>\n",
       "      <th>dob_years</th>\n",
       "      <th>education</th>\n",
       "      <th>education_id</th>\n",
       "      <th>family_status</th>\n",
       "      <th>family_status_id</th>\n",
       "      <th>gender</th>\n",
       "      <th>income_type</th>\n",
       "      <th>debt</th>\n",
       "      <th>total_income</th>\n",
       "      <th>purpose</th>\n",
       "    </tr>\n",
       "  </thead>\n",
       "  <tbody>\n",
       "    <tr>\n",
       "      <td>0</td>\n",
       "      <td>1</td>\n",
       "      <td>8437</td>\n",
       "      <td>42</td>\n",
       "      <td>высшее</td>\n",
       "      <td>0</td>\n",
       "      <td>женат / замужем</td>\n",
       "      <td>0</td>\n",
       "      <td>F</td>\n",
       "      <td>сотрудник</td>\n",
       "      <td>0</td>\n",
       "      <td>253875</td>\n",
       "      <td>[покупка,  , жилье, \\n]</td>\n",
       "    </tr>\n",
       "    <tr>\n",
       "      <td>1</td>\n",
       "      <td>1</td>\n",
       "      <td>4024</td>\n",
       "      <td>36</td>\n",
       "      <td>среднее</td>\n",
       "      <td>1</td>\n",
       "      <td>женат / замужем</td>\n",
       "      <td>0</td>\n",
       "      <td>F</td>\n",
       "      <td>сотрудник</td>\n",
       "      <td>0</td>\n",
       "      <td>112080</td>\n",
       "      <td>[приобретение,  , автомобиль, \\n]</td>\n",
       "    </tr>\n",
       "    <tr>\n",
       "      <td>2</td>\n",
       "      <td>0</td>\n",
       "      <td>5623</td>\n",
       "      <td>33</td>\n",
       "      <td>среднее</td>\n",
       "      <td>1</td>\n",
       "      <td>женат / замужем</td>\n",
       "      <td>0</td>\n",
       "      <td>M</td>\n",
       "      <td>сотрудник</td>\n",
       "      <td>0</td>\n",
       "      <td>145885</td>\n",
       "      <td>[покупка,  , жилье, \\n]</td>\n",
       "    </tr>\n",
       "    <tr>\n",
       "      <td>3</td>\n",
       "      <td>3</td>\n",
       "      <td>4124</td>\n",
       "      <td>32</td>\n",
       "      <td>среднее</td>\n",
       "      <td>1</td>\n",
       "      <td>женат / замужем</td>\n",
       "      <td>0</td>\n",
       "      <td>M</td>\n",
       "      <td>сотрудник</td>\n",
       "      <td>0</td>\n",
       "      <td>267628</td>\n",
       "      <td>[дополнительный,  , образование, \\n]</td>\n",
       "    </tr>\n",
       "    <tr>\n",
       "      <td>4</td>\n",
       "      <td>0</td>\n",
       "      <td>12586</td>\n",
       "      <td>53</td>\n",
       "      <td>среднее</td>\n",
       "      <td>1</td>\n",
       "      <td>гражданский брак</td>\n",
       "      <td>1</td>\n",
       "      <td>F</td>\n",
       "      <td>пенсионер</td>\n",
       "      <td>0</td>\n",
       "      <td>158616</td>\n",
       "      <td>[сыграть,  , свадьба, \\n]</td>\n",
       "    </tr>\n",
       "  </tbody>\n",
       "</table>\n",
       "</div>"
      ],
      "text/plain": [
       "   children  days_employed  dob_years education  education_id  \\\n",
       "0         1           8437         42    высшее             0   \n",
       "1         1           4024         36   среднее             1   \n",
       "2         0           5623         33   среднее             1   \n",
       "3         3           4124         32   среднее             1   \n",
       "4         0          12586         53   среднее             1   \n",
       "\n",
       "      family_status  family_status_id gender income_type  debt  total_income  \\\n",
       "0   женат / замужем                 0      F   сотрудник     0        253875   \n",
       "1   женат / замужем                 0      F   сотрудник     0        112080   \n",
       "2   женат / замужем                 0      M   сотрудник     0        145885   \n",
       "3   женат / замужем                 0      M   сотрудник     0        267628   \n",
       "4  гражданский брак                 1      F   пенсионер     0        158616   \n",
       "\n",
       "                                purpose  \n",
       "0               [покупка,  , жилье, \\n]  \n",
       "1     [приобретение,  , автомобиль, \\n]  \n",
       "2               [покупка,  , жилье, \\n]  \n",
       "3  [дополнительный,  , образование, \\n]  \n",
       "4             [сыграть,  , свадьба, \\n]  "
      ]
     },
     "metadata": {},
     "output_type": "display_data"
    }
   ],
   "source": [
    "m = Mystem()\n",
    "df.loc[:,'purpose'] = df.loc[:,'purpose'].map(lambda x: m.lemmatize(x)) # применим функцию лемматизации строки в каждой ячейке столбка purpose\n",
    "display(df.head())"
   ]
  },
  {
   "cell_type": "code",
   "execution_count": 20,
   "metadata": {},
   "outputs": [
    {
     "data": {
      "text/plain": [
       "array(['\\n', ' ', 'автомобиль', 'высокий', 'для', 'дополнительный',\n",
       "       'жилой', 'жилье', 'заниматься', 'коммерческий', 'на',\n",
       "       'недвижимость', 'образование', 'операция', 'подержанный',\n",
       "       'подержать', 'покупка', 'получение', 'приобретение', 'проведение',\n",
       "       'профильный', 'ремонт', 'с', 'свадьба', 'свой', 'сдача', 'сделка',\n",
       "       'семья', 'со', 'собственный', 'строительство', 'сыграть'],\n",
       "      dtype='<U14')"
      ]
     },
     "execution_count": 20,
     "metadata": {},
     "output_type": "execute_result"
    }
   ],
   "source": [
    "np.unique(df['purpose'].sum()) "
   ]
  },
  {
   "cell_type": "markdown",
   "metadata": {},
   "source": [
    "Основные категории: автомобиль, квартра, строительство и ремонт, образование, свадьба "
   ]
  },
  {
   "cell_type": "code",
   "execution_count": 21,
   "metadata": {
    "scrolled": true
   },
   "outputs": [
    {
     "name": "stdout",
     "output_type": "stream",
     "text": [
      "недвижимость                  4486\n",
      "автомобиль                    4315\n",
      "образование                   4022\n",
      "жилье                         3861\n",
      "свадьба                       2348\n",
      "строительство,недвижимость    1881\n",
      "ремонт,жилье                   612\n",
      "Name: purpose, dtype: int64\n"
     ]
    }
   ],
   "source": [
    "category=['автомобиль','жилье','квартира','свадьба','образование','ремонт','строительство','недвижимость']\n",
    "def purpose(item):\n",
    "    '''Функция возвращает список с названием категории при совпадении одного элемента списка ячейки из проверочного списка'''\n",
    "    purpose_sorted = [x for x in item if x in item and x in category]\n",
    "    return purpose_sorted\n",
    "# Применим функцию purpose к каждому элементу столбца purpose, которая возвращает список с названием категории, и перезапишем\n",
    "# в ячейку название категории в виде строки\n",
    "df.loc[:,'purpose'] = df.loc[:,'purpose'].map(lambda item: purpose(item)).map(lambda item:','.join(item)) \n",
    "df['purpose']=df['purpose'].astype('category')\n",
    "print(df['purpose'].value_counts()) #проверка результата    "
   ]
  },
  {
   "cell_type": "markdown",
   "metadata": {},
   "source": [
    "**Вывод**"
   ]
  },
  {
   "cell_type": "markdown",
   "metadata": {},
   "source": [
    "Обработав пропуски методом изменения регистров, и приведя все значения в стобце purpose к основным категориям, можем приступить к следующему пункту задания."
   ]
  },
  {
   "cell_type": "markdown",
   "metadata": {},
   "source": [
    "### Категоризация данных"
   ]
  },
  {
   "cell_type": "markdown",
   "metadata": {},
   "source": [
    "Для того, чтобы ответить на первый вопрос, необходимо категиризировать данные о детях. Можно ввести следующие категории: бездетные, один или два ребенка и более трех детей."
   ]
  },
  {
   "cell_type": "code",
   "execution_count": 22,
   "metadata": {},
   "outputs": [
    {
     "data": {
      "text/plain": [
       "0     1 или 2 ребенка\n",
       "1     1 или 2 ребенка\n",
       "2           Нет детей\n",
       "3    более трёх детей\n",
       "4           Нет детей\n",
       "Name: children_group, dtype: category\n",
       "Categories (3, object): [1 или 2 ребенка, Нет детей, более трёх детей]"
      ]
     },
     "execution_count": 22,
     "metadata": {},
     "output_type": "execute_result"
    }
   ],
   "source": [
    "def children_group(children):\n",
    "\n",
    "    \n",
    "    if children in range(0,1):\n",
    "        return 'Нет детей'\n",
    "    if children in range(1,3):\n",
    "        return '1 или 2 ребенка'\n",
    "    if children>=3:\n",
    "        return 'более трёх детей'\n",
    "\n",
    "df['children_group']=df['children'].apply(children_group)\n",
    "df['children_group']=df['children_group'].astype('category')\n",
    "df['children_group'].head()"
   ]
  },
  {
   "cell_type": "markdown",
   "metadata": {},
   "source": [
    "Для ответа на третий вопрос, я решил выделить 4 категории в стобце total_income:"
   ]
  },
  {
   "cell_type": "code",
   "execution_count": 23,
   "metadata": {},
   "outputs": [
    {
     "data": {
      "text/plain": [
       "0    доход более 150 тыс.руб\n",
       "1      доход 100-150 тыс.руб\n",
       "2      доход 100-150 тыс.руб\n",
       "3    доход более 150 тыс.руб\n",
       "4    доход более 150 тыс.руб\n",
       "Name: total_income_group, dtype: category\n",
       "Categories (4, object): [доход 100-150 тыс.руб, доход 50-100 тыс.руб, доход более 150 тыс.руб, доход менее 50 тыс.руб]"
      ]
     },
     "execution_count": 23,
     "metadata": {},
     "output_type": "execute_result"
    }
   ],
   "source": [
    "def income_group(income):\n",
    "\n",
    "    \n",
    "    if income in range(0,50000):\n",
    "        return 'доход менее 50 тыс.руб'\n",
    "    if income in range(50000,100000):\n",
    "        return 'доход 50-100 тыс.руб'\n",
    "    if income in range(100000,150000):\n",
    "        return 'доход 100-150 тыс.руб'\n",
    "    if income>150000:\n",
    "        return 'доход более 150 тыс.руб'\n",
    "    \n",
    "\n",
    "df['total_income_group']=df['total_income'].apply(income_group)\n",
    "df['total_income_group']=df['total_income_group'].astype('category')\n",
    "df['total_income_group'].head()"
   ]
  },
  {
   "cell_type": "markdown",
   "metadata": {},
   "source": [
    "Посмотрим как выглядят свойства финального датафрейма"
   ]
  },
  {
   "cell_type": "code",
   "execution_count": 24,
   "metadata": {},
   "outputs": [
    {
     "name": "stdout",
     "output_type": "stream",
     "text": [
      "<class 'pandas.core.frame.DataFrame'>\n",
      "RangeIndex: 21525 entries, 0 to 21524\n",
      "Data columns (total 14 columns):\n",
      "children              21525 non-null int8\n",
      "days_employed         21525 non-null int16\n",
      "dob_years             21525 non-null int8\n",
      "education             21525 non-null category\n",
      "education_id          21525 non-null int8\n",
      "family_status         21525 non-null category\n",
      "family_status_id      21525 non-null int8\n",
      "gender                21525 non-null object\n",
      "income_type           21525 non-null category\n",
      "debt                  21525 non-null int8\n",
      "total_income          21525 non-null int32\n",
      "purpose               21525 non-null category\n",
      "children_group        21525 non-null category\n",
      "total_income_group    21525 non-null category\n",
      "dtypes: category(6), int16(1), int32(1), int8(5), object(1)\n",
      "memory usage: 1.5 MB\n"
     ]
    }
   ],
   "source": [
    "df.info(memory_usage='deep') # проверка"
   ]
  },
  {
   "cell_type": "markdown",
   "metadata": {},
   "source": [
    "**Вывод**"
   ]
  },
  {
   "cell_type": "markdown",
   "metadata": {},
   "source": [
    "Для решения задачи были категоризированны данные из столбцов children и total_income. Иммея категоризированные данные, я могу вычислить для каждой категории абсолютное и относительное число просрочек по кредитам, что позволит ответить на поставленные вопросы."
   ]
  },
  {
   "cell_type": "markdown",
   "metadata": {},
   "source": [
    "## Шаг 3. Ответьте на вопросы"
   ]
  },
  {
   "cell_type": "markdown",
   "metadata": {},
   "source": [
    "- Есть ли зависимость между наличием детей и возвратом кредита в срок?"
   ]
  },
  {
   "cell_type": "code",
   "execution_count": 25,
   "metadata": {},
   "outputs": [
    {
     "data": {
      "text/plain": [
       "children_group\n",
       "1 или 2 ребенка      6920\n",
       "Нет детей           14225\n",
       "более трёх детей      380\n",
       "Name: debt, dtype: int64"
      ]
     },
     "execution_count": 25,
     "metadata": {},
     "output_type": "execute_result"
    }
   ],
   "source": [
    "df.groupby('children_group')['debt'].count() # численность в каждой категории"
   ]
  },
  {
   "cell_type": "code",
   "execution_count": 26,
   "metadata": {},
   "outputs": [
    {
     "data": {
      "text/plain": [
       "children_group\n",
       "1 или 2 ребенка      639.0\n",
       "Нет детей           1071.0\n",
       "более трёх детей      31.0\n",
       "Name: debt, dtype: float64"
      ]
     },
     "execution_count": 26,
     "metadata": {},
     "output_type": "execute_result"
    }
   ],
   "source": [
    "df.groupby('children_group')['debt'].sum() # число просрочек по каждой категории"
   ]
  },
  {
   "cell_type": "code",
   "execution_count": 27,
   "metadata": {},
   "outputs": [
    {
     "data": {
      "text/plain": [
       "children_group\n",
       "1 или 2 ребенка     10.829421\n",
       "Нет детей           13.281979\n",
       "более трёх детей    12.258065\n",
       "Name: debt, dtype: float64"
      ]
     },
     "execution_count": 27,
     "metadata": {},
     "output_type": "execute_result"
    }
   ],
   "source": [
    "#вычислим процент просрочек по каждой категории - отношение общей численности группы к числу просрочек в данной категории \n",
    "df.groupby('children_group')['debt'].count()/df.groupby('children_group')['debt'].sum() "
   ]
  },
  {
   "cell_type": "markdown",
   "metadata": {},
   "source": [
    "**Вывод**"
   ]
  },
  {
   "cell_type": "markdown",
   "metadata": {},
   "source": [
    "Среди клиентов без детей процент по просрочкам оказался выше на 2,5%, чем у клиентов банка имеющих 1-2 детей, и на 1,5% больше, чем у клиентов имеющих более 3 детей."
   ]
  },
  {
   "cell_type": "markdown",
   "metadata": {},
   "source": [
    "- Есть ли зависимость между семейным положением и возвратом кредита в срок?"
   ]
  },
  {
   "cell_type": "code",
   "execution_count": 28,
   "metadata": {},
   "outputs": [
    {
     "data": {
      "text/plain": [
       "family_status\n",
       "Не женат / не замужем    10.266423\n",
       "в разводе                14.058824\n",
       "вдовец / вдова           15.238095\n",
       "гражданский брак         10.765464\n",
       "женат / замужем          13.297530\n",
       "Name: debt, dtype: float64"
      ]
     },
     "execution_count": 28,
     "metadata": {},
     "output_type": "execute_result"
    }
   ],
   "source": [
    "df.groupby('family_status')['debt'].count()/df.groupby('family_status')['debt'].sum()"
   ]
  },
  {
   "cell_type": "markdown",
   "metadata": {},
   "source": [
    "**Вывод**"
   ]
  },
  {
   "cell_type": "markdown",
   "metadata": {},
   "source": [
    "Чаще всего проблемы с возвратом кредита испытывают вдовцы/вдовы. Реже всего просрочки по кредитам наблюдаются в категориях не женат/не замужем, и гражданский брак"
   ]
  },
  {
   "cell_type": "markdown",
   "metadata": {},
   "source": [
    "- Есть ли зависимость между уровнем дохода и возвратом кредита в срок?"
   ]
  },
  {
   "cell_type": "code",
   "execution_count": 29,
   "metadata": {},
   "outputs": [
    {
     "data": {
      "text/plain": [
       "total_income_group\n",
       "доход 100-150 тыс.руб      7878\n",
       "доход 50-100 тыс.руб       4091\n",
       "доход более 150 тыс.руб    9184\n",
       "доход менее 50 тыс.руб      372\n",
       "Name: debt, dtype: int64"
      ]
     },
     "execution_count": 29,
     "metadata": {},
     "output_type": "execute_result"
    }
   ],
   "source": [
    "df.groupby('total_income_group')['debt'].count()"
   ]
  },
  {
   "cell_type": "code",
   "execution_count": 30,
   "metadata": {},
   "outputs": [
    {
     "data": {
      "text/plain": [
       "total_income_group\n",
       "доход 100-150 тыс.руб      11.918306\n",
       "доход 50-100 тыс.руб       12.359517\n",
       "доход более 150 тыс.руб    12.650138\n",
       "доход менее 50 тыс.руб     16.173913\n",
       "Name: debt, dtype: float64"
      ]
     },
     "execution_count": 30,
     "metadata": {},
     "output_type": "execute_result"
    }
   ],
   "source": [
    "#вычислим процент просрочек по каждой категории - отношение общей численности группы к числу просрочек в данной категории \n",
    "df.groupby('total_income_group')['debt'].count()/df.groupby('total_income_group')['debt'].sum()"
   ]
  },
  {
   "cell_type": "markdown",
   "metadata": {},
   "source": [
    "**Вывод**"
   ]
  },
  {
   "cell_type": "markdown",
   "metadata": {},
   "source": [
    "В категории с наименьшим доходом наблюдается наибольший процент просрочек"
   ]
  },
  {
   "cell_type": "markdown",
   "metadata": {},
   "source": [
    "- Как разные цели кредита влияют на его возврат в срок?"
   ]
  },
  {
   "cell_type": "code",
   "execution_count": 31,
   "metadata": {},
   "outputs": [
    {
     "data": {
      "text/plain": [
       "purpose\n",
       "автомобиль                    4315\n",
       "жилье                         3861\n",
       "недвижимость                  4486\n",
       "образование                   4022\n",
       "ремонт,жилье                   612\n",
       "свадьба                       2348\n",
       "строительство,недвижимость    1881\n",
       "Name: debt, dtype: int64"
      ]
     },
     "execution_count": 31,
     "metadata": {},
     "output_type": "execute_result"
    }
   ],
   "source": [
    "df.groupby('purpose')['debt'].count()"
   ]
  },
  {
   "cell_type": "code",
   "execution_count": 32,
   "metadata": {},
   "outputs": [
    {
     "data": {
      "text/plain": [
       "purpose\n",
       "автомобиль                    403.0\n",
       "жилье                         273.0\n",
       "недвижимость                  330.0\n",
       "образование                   370.0\n",
       "ремонт,жилье                   35.0\n",
       "свадьба                       186.0\n",
       "строительство,недвижимость    144.0\n",
       "Name: debt, dtype: float64"
      ]
     },
     "execution_count": 32,
     "metadata": {},
     "output_type": "execute_result"
    }
   ],
   "source": [
    "df.groupby('purpose')['debt'].sum()"
   ]
  },
  {
   "cell_type": "code",
   "execution_count": 33,
   "metadata": {},
   "outputs": [
    {
     "data": {
      "text/plain": [
       "purpose\n",
       "автомобиль                    10.707196\n",
       "жилье                         14.142857\n",
       "недвижимость                  13.593939\n",
       "образование                   10.870270\n",
       "ремонт,жилье                  17.485714\n",
       "свадьба                       12.623656\n",
       "строительство,недвижимость    13.062500\n",
       "Name: debt, dtype: float64"
      ]
     },
     "execution_count": 33,
     "metadata": {},
     "output_type": "execute_result"
    }
   ],
   "source": [
    "#вычислим процент просрочек по каждой категории - отношение общей численности группы к числу просрочек в данной категории\n",
    "df.groupby('purpose')['debt'].count()/df.groupby('purpose')['debt'].sum()"
   ]
  },
  {
   "cell_type": "markdown",
   "metadata": {},
   "source": [
    "**Вывод**"
   ]
  },
  {
   "cell_type": "markdown",
   "metadata": {},
   "source": [
    "Больше всего просрочек наблюдается в категории ремонт жилья, на втором месте приобретение жилья и недвижимости. Наименьший процент просрочек наблюдается в категориях покупка автомобилья и образование. "
   ]
  },
  {
   "cell_type": "markdown",
   "metadata": {},
   "source": [
    "## Шаг 4. Общий вывод"
   ]
  },
  {
   "cell_type": "markdown",
   "metadata": {},
   "source": [
    "Мы ответили на четыре вопроса и выяснили:\n",
    "1. Среди клиентов без детей процент по просрочкам оказался выше на 2,5%, чем у клиентов банка имеющих 1-2 детей, и на 1,5% больше, чем у клиентов имеющих более 3 детей.\n",
    "2. Холостые клиенты, или состоящие в гражданском браке имеют просрочек на 5% меньше чем клиенты из категории вдовцы/вдовы.\n",
    "3. В категории с доходом менее 50 тыс.руб наблюдается большее число просрочек, по отношению к другим категориям.\n",
    "4. Клиенты взявшие кредит на образование выплачивают кредит гораздо охотнее чем те, кто взял кредит на ремонт жилья - 10% просрочек против 17%.\n"
   ]
  }
 ],
 "metadata": {
  "ExecuteTimeLog": [
   {
    "duration": 832,
    "start_time": "2021-11-22T20:19:35.699Z"
   },
   {
    "duration": 95,
    "start_time": "2021-11-22T20:22:56.719Z"
   },
   {
    "duration": 15,
    "start_time": "2021-11-22T20:27:28.358Z"
   },
   {
    "duration": 98,
    "start_time": "2021-11-22T20:31:00.474Z"
   },
   {
    "duration": 69,
    "start_time": "2021-11-22T20:33:05.100Z"
   },
   {
    "duration": 796,
    "start_time": "2021-11-23T10:59:25.575Z"
   },
   {
    "duration": 57,
    "start_time": "2021-11-23T10:59:42.440Z"
   },
   {
    "duration": 61,
    "start_time": "2021-11-23T11:00:01.488Z"
   },
   {
    "duration": 59,
    "start_time": "2021-11-23T11:01:03.132Z"
   },
   {
    "duration": 55,
    "start_time": "2021-11-23T11:11:51.280Z"
   },
   {
    "duration": 11,
    "start_time": "2021-11-23T11:11:54.588Z"
   },
   {
    "duration": 56,
    "start_time": "2021-11-23T11:24:45.054Z"
   },
   {
    "duration": 407,
    "start_time": "2021-11-23T11:25:09.141Z"
   },
   {
    "duration": 4,
    "start_time": "2021-11-23T11:25:31.077Z"
   },
   {
    "duration": 355,
    "start_time": "2021-11-23T11:27:03.728Z"
   },
   {
    "duration": 4,
    "start_time": "2021-11-23T11:28:38.661Z"
   },
   {
    "duration": 4,
    "start_time": "2021-11-23T11:29:55.292Z"
   },
   {
    "duration": 356,
    "start_time": "2021-11-23T11:30:07.929Z"
   },
   {
    "duration": 4,
    "start_time": "2021-11-23T11:30:25.757Z"
   },
   {
    "duration": 3,
    "start_time": "2021-11-23T11:30:46.732Z"
   },
   {
    "duration": 4,
    "start_time": "2021-11-23T11:31:25.969Z"
   },
   {
    "duration": 16898,
    "start_time": "2021-11-23T11:36:27.476Z"
   },
   {
    "duration": 9345,
    "start_time": "2021-11-23T11:36:48.518Z"
   },
   {
    "duration": 41096,
    "start_time": "2021-11-23T11:37:07.951Z"
   },
   {
    "duration": 12356,
    "start_time": "2021-11-23T11:38:01.003Z"
   },
   {
    "duration": 1525,
    "start_time": "2021-11-23T15:32:44.304Z"
   },
   {
    "duration": 172,
    "start_time": "2021-11-23T15:32:56.210Z"
   },
   {
    "duration": 56,
    "start_time": "2021-11-23T15:33:02.160Z"
   },
   {
    "duration": 12,
    "start_time": "2021-11-23T15:33:03.458Z"
   },
   {
    "duration": 341,
    "start_time": "2021-11-23T15:33:06.568Z"
   },
   {
    "duration": 192,
    "start_time": "2021-11-23T15:35:20.834Z"
   },
   {
    "duration": 54,
    "start_time": "2021-11-23T15:35:31.520Z"
   },
   {
    "duration": 11,
    "start_time": "2021-11-23T15:35:32.447Z"
   },
   {
    "duration": 195,
    "start_time": "2021-11-23T15:35:35.210Z"
   },
   {
    "duration": -17445,
    "start_time": "2021-11-23T15:36:58.841Z"
   },
   {
    "duration": 177,
    "start_time": "2021-11-23T15:36:42.216Z"
   },
   {
    "duration": 53,
    "start_time": "2021-11-23T15:36:51.283Z"
   },
   {
    "duration": 11,
    "start_time": "2021-11-23T15:36:52.305Z"
   },
   {
    "duration": 178,
    "start_time": "2021-11-23T15:36:53.414Z"
   },
   {
    "duration": 712,
    "start_time": "2021-11-23T15:39:09.963Z"
   },
   {
    "duration": 358,
    "start_time": "2021-11-23T15:39:53.532Z"
   },
   {
    "duration": 221,
    "start_time": "2021-11-23T15:42:04.914Z"
   },
   {
    "duration": 57,
    "start_time": "2021-11-23T15:42:23.926Z"
   },
   {
    "duration": 305,
    "start_time": "2021-11-23T15:42:31.587Z"
   },
   {
    "duration": 283,
    "start_time": "2021-11-23T15:45:31.646Z"
   },
   {
    "duration": 383,
    "start_time": "2021-11-23T15:47:01.146Z"
   },
   {
    "duration": 289,
    "start_time": "2021-11-23T15:47:25.087Z"
   },
   {
    "duration": 4823,
    "start_time": "2021-11-23T15:49:58.823Z"
   },
   {
    "duration": 5230,
    "start_time": "2021-11-23T15:51:21.997Z"
   },
   {
    "duration": 4621,
    "start_time": "2021-11-23T15:51:34.899Z"
   },
   {
    "duration": 4659,
    "start_time": "2021-11-23T15:51:47.614Z"
   },
   {
    "duration": 283,
    "start_time": "2021-11-23T15:52:08.276Z"
   },
   {
    "duration": 362,
    "start_time": "2021-11-23T15:52:19.642Z"
   },
   {
    "duration": 240,
    "start_time": "2021-11-23T15:56:22.754Z"
   },
   {
    "duration": 351,
    "start_time": "2021-11-23T15:58:28.194Z"
   },
   {
    "duration": 330,
    "start_time": "2021-11-23T15:59:20.621Z"
   },
   {
    "duration": 329,
    "start_time": "2021-11-23T16:00:04.274Z"
   },
   {
    "duration": 312,
    "start_time": "2021-11-23T16:00:21.023Z"
   },
   {
    "duration": 2443,
    "start_time": "2021-11-23T16:00:55.136Z"
   },
   {
    "duration": 2323,
    "start_time": "2021-11-23T16:01:08.567Z"
   },
   {
    "duration": 302,
    "start_time": "2021-11-23T16:01:19.056Z"
   },
   {
    "duration": 324,
    "start_time": "2021-11-23T16:04:14.439Z"
   },
   {
    "duration": 229,
    "start_time": "2021-11-23T16:04:48.345Z"
   },
   {
    "duration": 318,
    "start_time": "2021-11-23T16:05:05.409Z"
   },
   {
    "duration": 319,
    "start_time": "2021-11-23T16:05:33.618Z"
   },
   {
    "duration": 74,
    "start_time": "2021-11-23T16:05:56.237Z"
   },
   {
    "duration": 65,
    "start_time": "2021-11-23T16:07:34.298Z"
   },
   {
    "duration": 64,
    "start_time": "2021-11-23T16:07:37.734Z"
   },
   {
    "duration": 66,
    "start_time": "2021-11-23T16:07:58.025Z"
   },
   {
    "duration": 245,
    "start_time": "2021-11-23T16:09:35.921Z"
   },
   {
    "duration": 62,
    "start_time": "2021-11-23T16:10:18.936Z"
   },
   {
    "duration": 243,
    "start_time": "2021-11-23T16:12:40.325Z"
   },
   {
    "duration": 256,
    "start_time": "2021-11-23T16:12:44.760Z"
   },
   {
    "duration": 225,
    "start_time": "2021-11-23T16:13:07.974Z"
   },
   {
    "duration": 68,
    "start_time": "2021-11-23T16:15:08.282Z"
   },
   {
    "duration": 68,
    "start_time": "2021-11-23T16:15:17.606Z"
   },
   {
    "duration": 69,
    "start_time": "2021-11-23T16:15:26.113Z"
   },
   {
    "duration": 62,
    "start_time": "2021-11-23T16:15:29.403Z"
   },
   {
    "duration": 65,
    "start_time": "2021-11-23T16:15:35.917Z"
   },
   {
    "duration": 75,
    "start_time": "2021-11-23T16:16:43.900Z"
   },
   {
    "duration": 248,
    "start_time": "2021-11-23T16:17:16.400Z"
   },
   {
    "duration": 62,
    "start_time": "2021-11-23T16:17:28.891Z"
   },
   {
    "duration": 60,
    "start_time": "2021-11-23T16:17:45.845Z"
   },
   {
    "duration": 54,
    "start_time": "2021-11-23T16:17:54.404Z"
   },
   {
    "duration": 56,
    "start_time": "2021-11-23T16:18:03.800Z"
   },
   {
    "duration": 4,
    "start_time": "2021-11-23T16:18:05.336Z"
   },
   {
    "duration": 56,
    "start_time": "2021-11-23T16:18:11.250Z"
   },
   {
    "duration": 60,
    "start_time": "2021-11-23T16:18:20.127Z"
   },
   {
    "duration": 228,
    "start_time": "2021-11-23T16:19:50.480Z"
   },
   {
    "duration": 220,
    "start_time": "2021-11-23T16:19:58.849Z"
   },
   {
    "duration": 66,
    "start_time": "2021-11-23T16:20:15.559Z"
   },
   {
    "duration": 67,
    "start_time": "2021-11-23T16:20:40.330Z"
   },
   {
    "duration": 232,
    "start_time": "2021-11-23T16:26:46.524Z"
   },
   {
    "duration": 71,
    "start_time": "2021-11-23T16:27:03.205Z"
   },
   {
    "duration": 70,
    "start_time": "2021-11-23T16:27:28.829Z"
   },
   {
    "duration": 72,
    "start_time": "2021-11-23T16:27:54.269Z"
   },
   {
    "duration": 67,
    "start_time": "2021-11-23T16:27:59.760Z"
   },
   {
    "duration": 208,
    "start_time": "2021-11-23T16:32:21.071Z"
   },
   {
    "duration": 61,
    "start_time": "2021-11-23T16:32:31.002Z"
   },
   {
    "duration": 262,
    "start_time": "2021-11-23T16:32:45.501Z"
   },
   {
    "duration": 60,
    "start_time": "2021-11-23T16:33:28.920Z"
   },
   {
    "duration": 345,
    "start_time": "2021-11-23T16:33:39.152Z"
   },
   {
    "duration": 252,
    "start_time": "2021-11-23T16:35:05.595Z"
   },
   {
    "duration": 264,
    "start_time": "2021-11-23T16:35:12.005Z"
   },
   {
    "duration": 63,
    "start_time": "2021-11-23T16:37:02.980Z"
   },
   {
    "duration": 352,
    "start_time": "2021-11-23T16:37:25.799Z"
   },
   {
    "duration": 430,
    "start_time": "2021-11-23T16:40:22.608Z"
   },
   {
    "duration": 344,
    "start_time": "2021-11-23T16:40:46.432Z"
   },
   {
    "duration": 824,
    "start_time": "2021-11-23T16:48:20.225Z"
   },
   {
    "duration": 8,
    "start_time": "2021-11-23T16:48:39.110Z"
   },
   {
    "duration": 308,
    "start_time": "2021-11-23T16:49:12.068Z"
   },
   {
    "duration": 59,
    "start_time": "2021-11-23T16:54:54.425Z"
   },
   {
    "duration": 8,
    "start_time": "2021-11-23T16:54:56.022Z"
   },
   {
    "duration": 295,
    "start_time": "2021-11-23T17:00:15.313Z"
   },
   {
    "duration": 289,
    "start_time": "2021-11-23T17:00:41.842Z"
   },
   {
    "duration": 394,
    "start_time": "2021-11-23T17:01:56.237Z"
   },
   {
    "duration": 61,
    "start_time": "2021-11-23T17:04:35.537Z"
   },
   {
    "duration": 69,
    "start_time": "2021-11-23T17:04:44.708Z"
   },
   {
    "duration": 299,
    "start_time": "2021-11-23T17:04:49.694Z"
   },
   {
    "duration": 59,
    "start_time": "2021-11-23T17:05:03.013Z"
   },
   {
    "duration": 8,
    "start_time": "2021-11-23T17:05:04.280Z"
   },
   {
    "duration": 303,
    "start_time": "2021-11-23T17:05:05.174Z"
   },
   {
    "duration": 292,
    "start_time": "2021-11-23T17:05:06.744Z"
   },
   {
    "duration": 291,
    "start_time": "2021-11-23T17:05:36.043Z"
   },
   {
    "duration": 290,
    "start_time": "2021-11-23T17:05:37.713Z"
   },
   {
    "duration": 413,
    "start_time": "2021-11-23T17:05:47.896Z"
   },
   {
    "duration": 286,
    "start_time": "2021-11-23T17:05:57.445Z"
   },
   {
    "duration": 659,
    "start_time": "2021-11-23T17:06:17.393Z"
   },
   {
    "duration": 9,
    "start_time": "2021-11-23T17:06:19.256Z"
   },
   {
    "duration": 880,
    "start_time": "2021-11-23T17:06:22.222Z"
   },
   {
    "duration": 308,
    "start_time": "2021-11-23T17:06:23.969Z"
   },
   {
    "duration": 285,
    "start_time": "2021-11-23T17:06:45.327Z"
   },
   {
    "duration": 8,
    "start_time": "2021-11-23T17:07:06.691Z"
   },
   {
    "duration": 3,
    "start_time": "2021-11-23T17:07:08.401Z"
   },
   {
    "duration": 294,
    "start_time": "2021-11-23T17:07:09.628Z"
   },
   {
    "duration": 64,
    "start_time": "2021-11-23T17:07:23.579Z"
   },
   {
    "duration": 9,
    "start_time": "2021-11-23T17:07:27.238Z"
   },
   {
    "duration": 2,
    "start_time": "2021-11-23T17:07:30.573Z"
   },
   {
    "duration": 301,
    "start_time": "2021-11-23T17:07:31.705Z"
   },
   {
    "duration": 376,
    "start_time": "2021-11-23T17:07:52.392Z"
   },
   {
    "duration": 66,
    "start_time": "2021-11-23T17:08:10.002Z"
   },
   {
    "duration": 9,
    "start_time": "2021-11-23T17:08:12.293Z"
   },
   {
    "duration": 288,
    "start_time": "2021-11-23T17:08:13.652Z"
   },
   {
    "duration": 304,
    "start_time": "2021-11-23T17:08:15.573Z"
   },
   {
    "duration": 304,
    "start_time": "2021-11-23T17:09:25.534Z"
   },
   {
    "duration": 13,
    "start_time": "2021-11-23T17:09:36.372Z"
   },
   {
    "duration": 671,
    "start_time": "2021-11-23T17:09:49.818Z"
   },
   {
    "duration": 9,
    "start_time": "2021-11-23T17:09:55.331Z"
   },
   {
    "duration": 853,
    "start_time": "2021-11-23T17:09:58.066Z"
   },
   {
    "duration": 313,
    "start_time": "2021-11-23T17:10:16.629Z"
   },
   {
    "duration": 299,
    "start_time": "2021-11-23T17:10:21.434Z"
   },
   {
    "duration": 11,
    "start_time": "2021-11-23T17:10:54.670Z"
   },
   {
    "duration": 294,
    "start_time": "2021-11-23T17:10:57.944Z"
   },
   {
    "duration": 11,
    "start_time": "2021-11-23T17:10:59.901Z"
   },
   {
    "duration": 15,
    "start_time": "2021-11-23T17:11:45.995Z"
   },
   {
    "duration": 6,
    "start_time": "2021-11-23T17:11:56.075Z"
   },
   {
    "duration": 6,
    "start_time": "2021-11-23T17:11:58.023Z"
   },
   {
    "duration": 12,
    "start_time": "2021-11-23T17:12:31.735Z"
   },
   {
    "duration": 8,
    "start_time": "2021-11-23T17:15:40.788Z"
   },
   {
    "duration": 12,
    "start_time": "2021-11-23T17:15:41.875Z"
   },
   {
    "duration": 3,
    "start_time": "2021-11-23T17:16:46.128Z"
   },
   {
    "duration": 58,
    "start_time": "2021-11-23T17:17:26.535Z"
   },
   {
    "duration": 12,
    "start_time": "2021-11-23T17:17:35.323Z"
   },
   {
    "duration": 78,
    "start_time": "2021-11-23T17:19:19.348Z"
   },
   {
    "duration": 14,
    "start_time": "2021-11-23T17:19:22.493Z"
   },
   {
    "duration": 11,
    "start_time": "2021-11-23T17:21:31.471Z"
   },
   {
    "duration": 1306,
    "start_time": "2021-11-23T17:21:44.757Z"
   },
   {
    "duration": 13,
    "start_time": "2021-11-23T17:21:46.378Z"
   },
   {
    "duration": 866,
    "start_time": "2021-11-23T17:21:50.037Z"
   },
   {
    "duration": 6,
    "start_time": "2021-11-23T17:21:51.315Z"
   },
   {
    "duration": 13,
    "start_time": "2021-11-23T17:21:52.767Z"
   },
   {
    "duration": 6,
    "start_time": "2021-11-23T17:21:57.567Z"
   },
   {
    "duration": 16,
    "start_time": "2021-11-23T17:22:15.271Z"
   },
   {
    "duration": 304,
    "start_time": "2021-11-23T17:22:57.084Z"
   },
   {
    "duration": 720,
    "start_time": "2021-11-23T17:23:05.869Z"
   },
   {
    "duration": 960,
    "start_time": "2021-11-23T17:23:08.602Z"
   },
   {
    "duration": 12,
    "start_time": "2021-11-23T17:23:24.175Z"
   },
   {
    "duration": 315,
    "start_time": "2021-11-23T17:23:25.453Z"
   },
   {
    "duration": 7,
    "start_time": "2021-11-23T17:23:26.264Z"
   },
   {
    "duration": 14,
    "start_time": "2021-11-23T17:23:27.128Z"
   },
   {
    "duration": 6,
    "start_time": "2021-11-23T18:18:56.283Z"
   },
   {
    "duration": 10,
    "start_time": "2021-11-23T18:20:42.664Z"
   },
   {
    "duration": 295,
    "start_time": "2021-11-25T10:13:53.916Z"
   },
   {
    "duration": 273,
    "start_time": "2021-11-25T10:14:45.790Z"
   },
   {
    "duration": 280,
    "start_time": "2021-11-25T10:14:55.092Z"
   },
   {
    "duration": 260,
    "start_time": "2021-11-25T10:15:36.174Z"
   },
   {
    "duration": 830,
    "start_time": "2021-11-25T10:15:39.928Z"
   },
   {
    "duration": 15,
    "start_time": "2021-11-25T10:15:40.841Z"
   },
   {
    "duration": 1152,
    "start_time": "2021-11-25T10:15:42.023Z"
   },
   {
    "duration": 9,
    "start_time": "2021-11-25T10:15:43.177Z"
   },
   {
    "duration": 18,
    "start_time": "2021-11-25T10:16:03.908Z"
   },
   {
    "duration": 19,
    "start_time": "2021-11-25T10:16:05.952Z"
   },
   {
    "duration": 71,
    "start_time": "2021-11-25T10:17:17.187Z"
   },
   {
    "duration": 15,
    "start_time": "2021-11-25T10:17:18.660Z"
   },
   {
    "duration": 451,
    "start_time": "2021-11-25T10:17:20.659Z"
   },
   {
    "duration": 7,
    "start_time": "2021-11-25T10:17:24.321Z"
   },
   {
    "duration": 15,
    "start_time": "2021-11-25T10:17:25.245Z"
   },
   {
    "duration": 20,
    "start_time": "2021-11-25T10:17:29.763Z"
   },
   {
    "duration": 11,
    "start_time": "2021-11-25T10:17:34.374Z"
   },
   {
    "duration": 6563,
    "start_time": "2021-11-25T10:20:04.126Z"
   },
   {
    "duration": 6700,
    "start_time": "2021-11-25T10:20:48.946Z"
   },
   {
    "duration": 241,
    "start_time": "2021-11-25T10:20:58.084Z"
   },
   {
    "duration": 7950,
    "start_time": "2021-11-25T10:21:44.019Z"
   },
   {
    "duration": 6493,
    "start_time": "2021-11-25T10:22:04.363Z"
   },
   {
    "duration": 10,
    "start_time": "2021-11-25T10:22:13.060Z"
   },
   {
    "duration": -18915,
    "start_time": "2021-11-25T10:22:41.169Z"
   },
   {
    "duration": 22,
    "start_time": "2021-11-25T10:22:23.624Z"
   },
   {
    "duration": 19,
    "start_time": "2021-11-25T10:22:38.750Z"
   },
   {
    "duration": 253,
    "start_time": "2021-11-25T10:23:07.654Z"
   },
   {
    "duration": 267,
    "start_time": "2021-11-25T10:23:15.684Z"
   },
   {
    "duration": 21,
    "start_time": "2021-11-25T10:23:29.354Z"
   },
   {
    "duration": 27,
    "start_time": "2021-11-25T10:23:35.220Z"
   },
   {
    "duration": 27,
    "start_time": "2021-11-25T10:24:25.365Z"
   },
   {
    "duration": 297,
    "start_time": "2021-11-25T10:42:10.465Z"
   },
   {
    "duration": 248,
    "start_time": "2021-11-25T10:44:13.521Z"
   },
   {
    "duration": 679,
    "start_time": "2021-11-25T12:33:23.510Z"
   },
   {
    "duration": 12,
    "start_time": "2021-11-25T12:33:24.406Z"
   },
   {
    "duration": 808,
    "start_time": "2021-11-25T12:33:26.217Z"
   },
   {
    "duration": 18,
    "start_time": "2021-11-25T12:33:27.026Z"
   },
   {
    "duration": 11,
    "start_time": "2021-11-25T12:33:27.864Z"
   },
   {
    "duration": 15,
    "start_time": "2021-11-25T12:33:30.594Z"
   },
   {
    "duration": 7,
    "start_time": "2021-11-25T12:33:31.703Z"
   },
   {
    "duration": 20,
    "start_time": "2021-11-25T12:33:49.630Z"
   },
   {
    "duration": 366,
    "start_time": "2021-11-25T12:33:55.793Z"
   },
   {
    "duration": 4080,
    "start_time": "2021-11-25T12:35:00.878Z"
   },
   {
    "duration": 3711,
    "start_time": "2021-11-25T12:35:10.670Z"
   },
   {
    "duration": 462,
    "start_time": "2021-11-25T12:36:05.042Z"
   },
   {
    "duration": 272,
    "start_time": "2021-11-25T12:41:35.237Z"
   },
   {
    "duration": 306,
    "start_time": "2021-11-25T12:41:50.171Z"
   },
   {
    "duration": 1044,
    "start_time": "2021-11-25T12:42:02.151Z"
   },
   {
    "duration": 103,
    "start_time": "2021-11-25T12:51:37.379Z"
   },
   {
    "duration": 120,
    "start_time": "2021-11-25T12:51:45.403Z"
   },
   {
    "duration": 84,
    "start_time": "2021-11-25T12:51:56.066Z"
   },
   {
    "duration": 89,
    "start_time": "2021-11-25T12:52:07.030Z"
   },
   {
    "duration": 282,
    "start_time": "2021-11-25T12:52:26.295Z"
   },
   {
    "duration": 790,
    "start_time": "2021-11-25T12:52:46.603Z"
   },
   {
    "duration": 2670,
    "start_time": "2021-11-25T12:54:58.471Z"
   },
   {
    "duration": 1492,
    "start_time": "2021-11-25T12:57:39.089Z"
   },
   {
    "duration": 1658,
    "start_time": "2021-11-25T12:58:03.383Z"
   },
   {
    "duration": 594,
    "start_time": "2021-11-25T13:02:49.025Z"
   },
   {
    "duration": 1421,
    "start_time": "2021-11-25T13:03:11.356Z"
   },
   {
    "duration": 1930,
    "start_time": "2021-11-25T13:03:20.467Z"
   },
   {
    "duration": 343,
    "start_time": "2021-11-25T13:03:28.921Z"
   },
   {
    "duration": 246,
    "start_time": "2021-11-25T13:06:31.306Z"
   },
   {
    "duration": 1045,
    "start_time": "2021-11-25T13:06:40.678Z"
   },
   {
    "duration": 279,
    "start_time": "2021-11-25T13:06:57.331Z"
   },
   {
    "duration": 340,
    "start_time": "2021-11-25T13:07:13.028Z"
   },
   {
    "duration": 393,
    "start_time": "2021-11-25T13:07:49.760Z"
   },
   {
    "duration": 1874,
    "start_time": "2021-11-25T13:08:44.222Z"
   },
   {
    "duration": 366,
    "start_time": "2021-11-25T13:08:54.258Z"
   },
   {
    "duration": 545,
    "start_time": "2021-11-25T13:09:00.520Z"
   },
   {
    "duration": 1357,
    "start_time": "2021-11-25T13:10:05.446Z"
   },
   {
    "duration": 1882,
    "start_time": "2021-11-25T13:10:15.708Z"
   },
   {
    "duration": 101,
    "start_time": "2021-11-25T13:12:21.524Z"
   },
   {
    "duration": 337,
    "start_time": "2021-11-25T13:12:31.830Z"
   },
   {
    "duration": 86,
    "start_time": "2021-11-25T13:14:51.139Z"
   },
   {
    "duration": 2031,
    "start_time": "2021-11-25T13:15:37.550Z"
   },
   {
    "duration": 347,
    "start_time": "2021-11-25T13:17:29.787Z"
   },
   {
    "duration": 109,
    "start_time": "2021-11-25T13:17:38.036Z"
   },
   {
    "duration": 327,
    "start_time": "2021-11-25T13:17:43.342Z"
   },
   {
    "duration": 2085,
    "start_time": "2021-11-25T13:18:30.265Z"
   },
   {
    "duration": 411,
    "start_time": "2021-11-25T13:18:42.494Z"
   },
   {
    "duration": 478,
    "start_time": "2021-11-25T13:21:57.143Z"
   },
   {
    "duration": 54,
    "start_time": "2021-11-25T13:24:24.855Z"
   },
   {
    "duration": 356,
    "start_time": "2021-11-25T13:24:42.951Z"
   },
   {
    "duration": 57,
    "start_time": "2021-11-25T13:24:50.950Z"
   },
   {
    "duration": 322,
    "start_time": "2021-11-25T13:26:51.423Z"
   },
   {
    "duration": 773,
    "start_time": "2021-11-25T13:28:26.369Z"
   },
   {
    "duration": 502,
    "start_time": "2021-11-25T13:29:05.912Z"
   },
   {
    "duration": 163,
    "start_time": "2021-11-25T13:30:00.084Z"
   },
   {
    "duration": 1216,
    "start_time": "2021-11-25T13:31:27.875Z"
   },
   {
    "duration": 1776,
    "start_time": "2021-11-25T13:35:48.992Z"
   },
   {
    "duration": 20,
    "start_time": "2021-11-25T13:36:06.426Z"
   },
   {
    "duration": 1269,
    "start_time": "2021-11-25T13:36:07.622Z"
   },
   {
    "duration": 127,
    "start_time": "2021-11-25T13:37:25.416Z"
   },
   {
    "duration": 94,
    "start_time": "2021-11-25T13:37:44.201Z"
   },
   {
    "duration": 90,
    "start_time": "2021-11-25T13:38:06.292Z"
   },
   {
    "duration": 95,
    "start_time": "2021-11-25T13:38:26.924Z"
   },
   {
    "duration": 1338,
    "start_time": "2021-11-25T13:38:39.631Z"
   },
   {
    "duration": 1080,
    "start_time": "2021-11-25T13:44:03.897Z"
   },
   {
    "duration": 1508,
    "start_time": "2021-11-25T13:44:13.341Z"
   },
   {
    "duration": 1065,
    "start_time": "2021-11-25T13:45:37.348Z"
   },
   {
    "duration": 66,
    "start_time": "2021-11-25T13:46:00.938Z"
   },
   {
    "duration": 50,
    "start_time": "2021-11-25T13:46:25.402Z"
   },
   {
    "duration": 49,
    "start_time": "2021-11-25T13:46:33.190Z"
   },
   {
    "duration": 49,
    "start_time": "2021-11-25T13:47:23.620Z"
   },
   {
    "duration": 60,
    "start_time": "2021-11-25T13:47:51.331Z"
   },
   {
    "duration": 12,
    "start_time": "2021-11-25T13:47:52.249Z"
   },
   {
    "duration": 267,
    "start_time": "2021-11-25T13:47:52.945Z"
   },
   {
    "duration": 8,
    "start_time": "2021-11-25T13:47:53.344Z"
   },
   {
    "duration": 11,
    "start_time": "2021-11-25T13:47:53.887Z"
   },
   {
    "duration": 15,
    "start_time": "2021-11-25T13:47:54.578Z"
   },
   {
    "duration": 8,
    "start_time": "2021-11-25T13:47:55.254Z"
   },
   {
    "duration": 21,
    "start_time": "2021-11-25T13:47:55.696Z"
   },
   {
    "duration": 3614,
    "start_time": "2021-11-25T13:47:56.158Z"
   },
   {
    "duration": 51,
    "start_time": "2021-11-25T13:47:59.774Z"
   },
   {
    "duration": 3618,
    "start_time": "2021-11-25T13:48:17.304Z"
   },
   {
    "duration": 3419,
    "start_time": "2021-11-25T13:48:34.667Z"
   },
   {
    "duration": 530,
    "start_time": "2021-11-25T13:49:07.072Z"
   },
   {
    "duration": 69,
    "start_time": "2021-11-25T13:49:12.421Z"
   },
   {
    "duration": 3,
    "start_time": "2021-11-25T13:49:21.504Z"
   },
   {
    "duration": 6469,
    "start_time": "2021-11-25T13:49:48.790Z"
   },
   {
    "duration": 6505,
    "start_time": "2021-11-25T13:50:01.572Z"
   },
   {
    "duration": 338,
    "start_time": "2021-11-25T13:50:45.806Z"
   },
   {
    "duration": 941,
    "start_time": "2021-11-25T13:51:01.919Z"
   },
   {
    "duration": 1012,
    "start_time": "2021-11-25T13:51:39.904Z"
   },
   {
    "duration": 94,
    "start_time": "2021-11-25T13:55:12.197Z"
   },
   {
    "duration": 89,
    "start_time": "2021-11-25T13:55:19.309Z"
   },
   {
    "duration": 164,
    "start_time": "2021-11-25T13:55:25.636Z"
   },
   {
    "duration": 3537,
    "start_time": "2021-11-25T13:55:35.451Z"
   },
   {
    "duration": 4436,
    "start_time": "2021-11-25T14:06:42.487Z"
   },
   {
    "duration": 4085,
    "start_time": "2021-11-25T14:06:50.761Z"
   },
   {
    "duration": 3745,
    "start_time": "2021-11-25T14:07:02.209Z"
   },
   {
    "duration": 4302,
    "start_time": "2021-11-25T14:07:15.661Z"
   },
   {
    "duration": 3641,
    "start_time": "2021-11-25T14:08:25.081Z"
   },
   {
    "duration": 4095,
    "start_time": "2021-11-25T14:09:22.289Z"
   },
   {
    "duration": 3797,
    "start_time": "2021-11-25T14:09:47.753Z"
   },
   {
    "duration": 4141,
    "start_time": "2021-11-25T14:10:13.548Z"
   },
   {
    "duration": 4071,
    "start_time": "2021-11-25T14:11:25.160Z"
   },
   {
    "duration": 4085,
    "start_time": "2021-11-25T14:11:53.571Z"
   },
   {
    "duration": 3928,
    "start_time": "2021-11-25T14:12:19.298Z"
   },
   {
    "duration": 3866,
    "start_time": "2021-11-25T14:12:48.078Z"
   },
   {
    "duration": 674,
    "start_time": "2021-11-25T14:13:16.112Z"
   },
   {
    "duration": 11,
    "start_time": "2021-11-25T14:13:17.622Z"
   },
   {
    "duration": 798,
    "start_time": "2021-11-25T14:13:19.016Z"
   },
   {
    "duration": 6,
    "start_time": "2021-11-25T14:13:19.816Z"
   },
   {
    "duration": 11,
    "start_time": "2021-11-25T14:13:20.873Z"
   },
   {
    "duration": 15,
    "start_time": "2021-11-25T14:13:22.084Z"
   },
   {
    "duration": 7,
    "start_time": "2021-11-25T14:13:23.744Z"
   },
   {
    "duration": 20,
    "start_time": "2021-11-25T14:13:25.091Z"
   },
   {
    "duration": 3723,
    "start_time": "2021-11-25T14:13:28.692Z"
   },
   {
    "duration": 3674,
    "start_time": "2021-11-25T14:13:50.518Z"
   },
   {
    "duration": 3466,
    "start_time": "2021-11-25T14:14:05.294Z"
   },
   {
    "duration": 1402,
    "start_time": "2021-11-25T14:14:21.374Z"
   },
   {
    "duration": 1201,
    "start_time": "2021-11-25T14:14:47.437Z"
   },
   {
    "duration": 1563,
    "start_time": "2021-11-25T14:14:51.684Z"
   },
   {
    "duration": 1217,
    "start_time": "2021-11-25T14:14:57.820Z"
   },
   {
    "duration": 23,
    "start_time": "2021-11-25T14:15:05.445Z"
   },
   {
    "duration": 1219,
    "start_time": "2021-11-25T14:15:06.783Z"
   },
   {
    "duration": 1205,
    "start_time": "2021-11-25T14:15:28.225Z"
   },
   {
    "duration": 1294,
    "start_time": "2021-11-25T14:15:57.701Z"
   },
   {
    "duration": 20,
    "start_time": "2021-11-25T14:16:07.386Z"
   },
   {
    "duration": 1453,
    "start_time": "2021-11-25T14:16:08.471Z"
   },
   {
    "duration": 688,
    "start_time": "2021-11-25T14:16:51.274Z"
   },
   {
    "duration": 11,
    "start_time": "2021-11-25T14:16:51.964Z"
   },
   {
    "duration": 838,
    "start_time": "2021-11-25T14:16:53.160Z"
   },
   {
    "duration": 6,
    "start_time": "2021-11-25T14:16:54.000Z"
   },
   {
    "duration": 11,
    "start_time": "2021-11-25T14:16:54.565Z"
   },
   {
    "duration": 14,
    "start_time": "2021-11-25T14:16:55.503Z"
   },
   {
    "duration": 10,
    "start_time": "2021-11-25T14:16:56.299Z"
   },
   {
    "duration": 32,
    "start_time": "2021-11-25T14:16:56.777Z"
   },
   {
    "duration": 3751,
    "start_time": "2021-11-25T14:16:57.304Z"
   },
   {
    "duration": 3572,
    "start_time": "2021-11-25T14:21:15.789Z"
   },
   {
    "duration": 1275,
    "start_time": "2021-11-25T14:21:45.435Z"
   },
   {
    "duration": 1770,
    "start_time": "2021-11-25T14:21:53.772Z"
   },
   {
    "duration": 669,
    "start_time": "2021-11-25T14:22:04.714Z"
   },
   {
    "duration": 13,
    "start_time": "2021-11-25T14:22:05.633Z"
   },
   {
    "duration": 1190,
    "start_time": "2021-11-25T14:22:06.440Z"
   },
   {
    "duration": 18,
    "start_time": "2021-11-25T14:22:07.633Z"
   },
   {
    "duration": 16,
    "start_time": "2021-11-25T14:22:07.654Z"
   },
   {
    "duration": 22,
    "start_time": "2021-11-25T14:22:08.385Z"
   },
   {
    "duration": 7,
    "start_time": "2021-11-25T14:22:09.194Z"
   },
   {
    "duration": 19,
    "start_time": "2021-11-25T14:22:09.801Z"
   },
   {
    "duration": 3457,
    "start_time": "2021-11-25T14:22:10.456Z"
   },
   {
    "duration": 344,
    "start_time": "2021-11-25T14:22:42.379Z"
   },
   {
    "duration": 1906,
    "start_time": "2021-11-25T14:23:16.885Z"
   },
   {
    "duration": 6,
    "start_time": "2021-11-25T14:24:43.388Z"
   },
   {
    "duration": 88,
    "start_time": "2021-11-25T14:25:34.209Z"
   },
   {
    "duration": 252,
    "start_time": "2021-11-25T14:25:41.257Z"
   },
   {
    "duration": 261,
    "start_time": "2021-11-25T14:25:51.292Z"
   },
   {
    "duration": 1265,
    "start_time": "2021-11-25T14:28:25.777Z"
   },
   {
    "duration": 666,
    "start_time": "2021-11-25T14:28:36.227Z"
   },
   {
    "duration": 12,
    "start_time": "2021-11-25T14:28:37.643Z"
   },
   {
    "duration": 815,
    "start_time": "2021-11-25T14:28:38.402Z"
   },
   {
    "duration": 6,
    "start_time": "2021-11-25T14:28:39.219Z"
   },
   {
    "duration": 11,
    "start_time": "2021-11-25T14:28:39.291Z"
   },
   {
    "duration": 15,
    "start_time": "2021-11-25T14:28:39.896Z"
   },
   {
    "duration": 8,
    "start_time": "2021-11-25T14:28:40.612Z"
   },
   {
    "duration": 21,
    "start_time": "2021-11-25T14:28:41.087Z"
   },
   {
    "duration": 3656,
    "start_time": "2021-11-25T14:28:41.544Z"
   },
   {
    "duration": 8,
    "start_time": "2021-11-25T14:28:59.406Z"
   },
   {
    "duration": 9,
    "start_time": "2021-11-25T14:30:17.078Z"
   },
   {
    "duration": 3668,
    "start_time": "2021-11-25T14:31:42.676Z"
   },
   {
    "duration": 658,
    "start_time": "2021-11-25T14:32:06.259Z"
   },
   {
    "duration": 8587,
    "start_time": "2021-11-25T14:33:40.823Z"
   },
   {
    "duration": 317,
    "start_time": "2021-11-25T14:34:06.197Z"
   },
   {
    "duration": 88,
    "start_time": "2021-11-25T14:34:29.607Z"
   },
   {
    "duration": 263,
    "start_time": "2021-11-25T14:34:35.177Z"
   },
   {
    "duration": 304,
    "start_time": "2021-11-25T14:34:46.593Z"
   },
   {
    "duration": 9208,
    "start_time": "2021-11-25T14:35:09.074Z"
   },
   {
    "duration": 105,
    "start_time": "2021-11-25T14:38:34.458Z"
   },
   {
    "duration": 20,
    "start_time": "2021-11-25T14:38:38.265Z"
   },
   {
    "duration": 28,
    "start_time": "2021-11-25T14:39:00.915Z"
   },
   {
    "duration": 267,
    "start_time": "2021-11-25T14:45:48.261Z"
   },
   {
    "duration": 8751,
    "start_time": "2021-11-25T14:46:05.471Z"
   },
   {
    "duration": 268,
    "start_time": "2021-11-25T14:46:34.635Z"
   },
   {
    "duration": 9100,
    "start_time": "2021-11-25T14:46:45.030Z"
   },
   {
    "duration": 8701,
    "start_time": "2021-11-25T14:47:45.271Z"
   },
   {
    "duration": 306,
    "start_time": "2021-11-25T20:39:08.889Z"
   },
   {
    "duration": 640,
    "start_time": "2021-11-25T20:39:15.993Z"
   },
   {
    "duration": 13,
    "start_time": "2021-11-25T20:39:17.853Z"
   },
   {
    "duration": 821,
    "start_time": "2021-11-25T20:39:18.907Z"
   },
   {
    "duration": 8,
    "start_time": "2021-11-25T20:39:19.782Z"
   },
   {
    "duration": 12,
    "start_time": "2021-11-25T20:39:20.438Z"
   },
   {
    "duration": 16,
    "start_time": "2021-11-25T20:39:21.591Z"
   },
   {
    "duration": 9,
    "start_time": "2021-11-25T20:39:22.647Z"
   },
   {
    "duration": 20,
    "start_time": "2021-11-25T20:39:23.745Z"
   },
   {
    "duration": 3549,
    "start_time": "2021-11-25T20:39:24.971Z"
   },
   {
    "duration": 5609,
    "start_time": "2021-11-25T20:39:28.522Z"
   },
   {
    "duration": 1293,
    "start_time": "2021-11-25T20:39:37.712Z"
   },
   {
    "duration": 87,
    "start_time": "2021-11-25T20:40:02.008Z"
   },
   {
    "duration": 1360,
    "start_time": "2021-11-25T20:40:07.480Z"
   },
   {
    "duration": 3,
    "start_time": "2021-11-25T20:58:15.355Z"
   },
   {
    "duration": 62,
    "start_time": "2021-11-25T20:58:43.964Z"
   },
   {
    "duration": 1279,
    "start_time": "2021-11-25T20:59:54.519Z"
   },
   {
    "duration": 617,
    "start_time": "2021-11-25T21:00:05.398Z"
   },
   {
    "duration": 12,
    "start_time": "2021-11-25T21:00:07.805Z"
   },
   {
    "duration": 813,
    "start_time": "2021-11-25T21:00:09.192Z"
   },
   {
    "duration": 7,
    "start_time": "2021-11-25T21:00:10.008Z"
   },
   {
    "duration": 12,
    "start_time": "2021-11-25T21:00:10.824Z"
   },
   {
    "duration": 14,
    "start_time": "2021-11-25T21:00:11.929Z"
   },
   {
    "duration": 9,
    "start_time": "2021-11-25T21:00:13.103Z"
   },
   {
    "duration": 20,
    "start_time": "2021-11-25T21:00:13.867Z"
   },
   {
    "duration": 3460,
    "start_time": "2021-11-25T21:00:16.969Z"
   },
   {
    "duration": 5531,
    "start_time": "2021-11-25T21:00:20.431Z"
   },
   {
    "duration": 81,
    "start_time": "2021-11-25T21:00:25.964Z"
   },
   {
    "duration": 1277,
    "start_time": "2021-11-25T21:02:35.819Z"
   },
   {
    "duration": 621,
    "start_time": "2021-11-25T21:02:51.485Z"
   },
   {
    "duration": 11,
    "start_time": "2021-11-25T21:02:53.615Z"
   },
   {
    "duration": 793,
    "start_time": "2021-11-25T21:02:54.927Z"
   },
   {
    "duration": 7,
    "start_time": "2021-11-25T21:02:55.777Z"
   },
   {
    "duration": 12,
    "start_time": "2021-11-25T21:02:56.882Z"
   },
   {
    "duration": 15,
    "start_time": "2021-11-25T21:02:59.620Z"
   },
   {
    "duration": 8,
    "start_time": "2021-11-25T21:03:01.201Z"
   },
   {
    "duration": 32,
    "start_time": "2021-11-25T21:03:02.251Z"
   },
   {
    "duration": 3524,
    "start_time": "2021-11-25T21:03:05.136Z"
   },
   {
    "duration": 5391,
    "start_time": "2021-11-25T21:03:08.712Z"
   },
   {
    "duration": 76,
    "start_time": "2021-11-25T21:03:15.838Z"
   },
   {
    "duration": 1318,
    "start_time": "2021-11-25T21:03:40.972Z"
   },
   {
    "duration": 656,
    "start_time": "2021-11-25T21:03:55.050Z"
   },
   {
    "duration": 11,
    "start_time": "2021-11-25T21:03:55.708Z"
   },
   {
    "duration": 779,
    "start_time": "2021-11-25T21:03:55.722Z"
   },
   {
    "duration": 6,
    "start_time": "2021-11-25T21:03:56.503Z"
   },
   {
    "duration": 10,
    "start_time": "2021-11-25T21:03:56.510Z"
   },
   {
    "duration": 31,
    "start_time": "2021-11-25T21:03:56.522Z"
   },
   {
    "duration": 8,
    "start_time": "2021-11-25T21:03:56.554Z"
   },
   {
    "duration": 19,
    "start_time": "2021-11-25T21:03:56.563Z"
   },
   {
    "duration": 3749,
    "start_time": "2021-11-25T21:03:56.584Z"
   },
   {
    "duration": 5452,
    "start_time": "2021-11-25T21:04:00.335Z"
   },
   {
    "duration": 90,
    "start_time": "2021-11-25T21:04:05.789Z"
   },
   {
    "duration": 604,
    "start_time": "2021-11-25T21:04:53.480Z"
   },
   {
    "duration": 10,
    "start_time": "2021-11-25T21:04:54.087Z"
   },
   {
    "duration": 824,
    "start_time": "2021-11-25T21:04:54.099Z"
   },
   {
    "duration": 7,
    "start_time": "2021-11-25T21:04:54.925Z"
   },
   {
    "duration": 20,
    "start_time": "2021-11-25T21:04:54.933Z"
   },
   {
    "duration": 15,
    "start_time": "2021-11-25T21:04:54.955Z"
   },
   {
    "duration": 7,
    "start_time": "2021-11-25T21:04:54.972Z"
   },
   {
    "duration": 29,
    "start_time": "2021-11-25T21:04:54.981Z"
   },
   {
    "duration": 3588,
    "start_time": "2021-11-25T21:04:55.012Z"
   },
   {
    "duration": 5612,
    "start_time": "2021-11-25T21:04:58.602Z"
   },
   {
    "duration": 91,
    "start_time": "2021-11-25T21:05:04.216Z"
   },
   {
    "duration": 689,
    "start_time": "2021-11-25T21:06:38.914Z"
   },
   {
    "duration": 11,
    "start_time": "2021-11-25T21:06:39.605Z"
   },
   {
    "duration": 823,
    "start_time": "2021-11-25T21:06:39.618Z"
   },
   {
    "duration": 8,
    "start_time": "2021-11-25T21:06:40.445Z"
   },
   {
    "duration": 14,
    "start_time": "2021-11-25T21:06:40.454Z"
   },
   {
    "duration": 32,
    "start_time": "2021-11-25T21:06:40.470Z"
   },
   {
    "duration": 19,
    "start_time": "2021-11-25T21:06:40.503Z"
   },
   {
    "duration": 34,
    "start_time": "2021-11-25T21:06:40.524Z"
   },
   {
    "duration": 3811,
    "start_time": "2021-11-25T21:06:40.560Z"
   },
   {
    "duration": 5714,
    "start_time": "2021-11-25T21:06:44.373Z"
   },
   {
    "duration": 201,
    "start_time": "2021-11-25T21:06:50.089Z"
   },
   {
    "duration": 692,
    "start_time": "2021-11-25T21:08:50.350Z"
   },
   {
    "duration": 12,
    "start_time": "2021-11-25T21:08:51.044Z"
   },
   {
    "duration": 879,
    "start_time": "2021-11-25T21:08:51.059Z"
   },
   {
    "duration": 6,
    "start_time": "2021-11-25T21:08:51.944Z"
   },
   {
    "duration": 13,
    "start_time": "2021-11-25T21:08:51.952Z"
   },
   {
    "duration": 22,
    "start_time": "2021-11-25T21:08:51.967Z"
   },
   {
    "duration": 11,
    "start_time": "2021-11-25T21:08:51.991Z"
   },
   {
    "duration": 66,
    "start_time": "2021-11-25T21:08:52.004Z"
   },
   {
    "duration": 4284,
    "start_time": "2021-11-25T21:08:52.073Z"
   },
   {
    "duration": 7023,
    "start_time": "2021-11-25T21:08:56.360Z"
   },
   {
    "duration": 169,
    "start_time": "2021-11-25T21:09:03.386Z"
   },
   {
    "duration": 837,
    "start_time": "2021-11-25T21:14:59.459Z"
   },
   {
    "duration": 11,
    "start_time": "2021-11-25T21:15:00.302Z"
   },
   {
    "duration": 814,
    "start_time": "2021-11-25T21:15:00.315Z"
   },
   {
    "duration": 15,
    "start_time": "2021-11-25T21:15:01.131Z"
   },
   {
    "duration": 15,
    "start_time": "2021-11-25T21:15:01.148Z"
   },
   {
    "duration": 14,
    "start_time": "2021-11-25T21:15:01.165Z"
   },
   {
    "duration": 9,
    "start_time": "2021-11-25T21:15:01.181Z"
   },
   {
    "duration": 18,
    "start_time": "2021-11-25T21:15:01.193Z"
   },
   {
    "duration": 3766,
    "start_time": "2021-11-25T21:15:01.213Z"
   },
   {
    "duration": 5512,
    "start_time": "2021-11-25T21:15:04.981Z"
   },
   {
    "duration": 88,
    "start_time": "2021-11-25T21:15:10.495Z"
   },
   {
    "duration": 140,
    "start_time": "2021-11-25T21:15:39.817Z"
   },
   {
    "duration": 644,
    "start_time": "2021-11-25T21:17:23.856Z"
   },
   {
    "duration": 11,
    "start_time": "2021-11-25T21:17:24.502Z"
   },
   {
    "duration": 797,
    "start_time": "2021-11-25T21:17:24.516Z"
   },
   {
    "duration": 6,
    "start_time": "2021-11-25T21:17:25.314Z"
   },
   {
    "duration": 22,
    "start_time": "2021-11-25T21:17:25.322Z"
   },
   {
    "duration": 14,
    "start_time": "2021-11-25T21:17:25.346Z"
   },
   {
    "duration": 7,
    "start_time": "2021-11-25T21:17:25.361Z"
   },
   {
    "duration": 18,
    "start_time": "2021-11-25T21:17:25.370Z"
   },
   {
    "duration": 3573,
    "start_time": "2021-11-25T21:17:25.391Z"
   },
   {
    "duration": 5420,
    "start_time": "2021-11-25T21:17:28.966Z"
   },
   {
    "duration": 145,
    "start_time": "2021-11-25T21:17:34.387Z"
   },
   {
    "duration": 688,
    "start_time": "2021-11-25T21:18:20.914Z"
   },
   {
    "duration": 11,
    "start_time": "2021-11-25T21:18:21.604Z"
   },
   {
    "duration": 827,
    "start_time": "2021-11-25T21:18:21.617Z"
   },
   {
    "duration": 7,
    "start_time": "2021-11-25T21:18:22.446Z"
   },
   {
    "duration": 12,
    "start_time": "2021-11-25T21:18:22.455Z"
   },
   {
    "duration": 18,
    "start_time": "2021-11-25T21:18:22.468Z"
   },
   {
    "duration": 8,
    "start_time": "2021-11-25T21:18:22.488Z"
   },
   {
    "duration": 49,
    "start_time": "2021-11-25T21:18:22.497Z"
   },
   {
    "duration": 3675,
    "start_time": "2021-11-25T21:18:22.548Z"
   },
   {
    "duration": 5451,
    "start_time": "2021-11-25T21:18:26.226Z"
   },
   {
    "duration": 95,
    "start_time": "2021-11-25T21:18:31.678Z"
   },
   {
    "duration": 723,
    "start_time": "2021-11-25T21:20:51.104Z"
   },
   {
    "duration": 11,
    "start_time": "2021-11-25T21:20:51.829Z"
   },
   {
    "duration": 787,
    "start_time": "2021-11-25T21:20:51.842Z"
   },
   {
    "duration": 13,
    "start_time": "2021-11-25T21:20:52.631Z"
   },
   {
    "duration": 11,
    "start_time": "2021-11-25T21:20:52.645Z"
   },
   {
    "duration": 15,
    "start_time": "2021-11-25T21:20:52.658Z"
   },
   {
    "duration": 7,
    "start_time": "2021-11-25T21:20:52.674Z"
   },
   {
    "duration": 19,
    "start_time": "2021-11-25T21:20:52.684Z"
   },
   {
    "duration": 3606,
    "start_time": "2021-11-25T21:20:52.705Z"
   },
   {
    "duration": 5517,
    "start_time": "2021-11-25T21:20:56.313Z"
   },
   {
    "duration": 101,
    "start_time": "2021-11-25T21:21:01.832Z"
   },
   {
    "duration": 95,
    "start_time": "2021-11-25T21:21:14.572Z"
   },
   {
    "duration": 1284,
    "start_time": "2021-11-25T21:21:41.497Z"
   },
   {
    "duration": 132,
    "start_time": "2021-11-25T21:21:47.196Z"
   },
   {
    "duration": 1689,
    "start_time": "2021-11-25T21:22:05.514Z"
   },
   {
    "duration": 650,
    "start_time": "2021-11-25T21:22:36.745Z"
   },
   {
    "duration": 10,
    "start_time": "2021-11-25T21:22:37.397Z"
   },
   {
    "duration": 802,
    "start_time": "2021-11-25T21:22:37.412Z"
   },
   {
    "duration": 6,
    "start_time": "2021-11-25T21:22:38.216Z"
   },
   {
    "duration": 22,
    "start_time": "2021-11-25T21:22:38.223Z"
   },
   {
    "duration": 14,
    "start_time": "2021-11-25T21:22:38.247Z"
   },
   {
    "duration": 24,
    "start_time": "2021-11-25T21:22:38.264Z"
   },
   {
    "duration": 29,
    "start_time": "2021-11-25T21:22:38.290Z"
   },
   {
    "duration": 3577,
    "start_time": "2021-11-25T21:22:38.321Z"
   },
   {
    "duration": 5382,
    "start_time": "2021-11-25T21:22:41.900Z"
   },
   {
    "duration": 1286,
    "start_time": "2021-11-25T21:22:47.284Z"
   },
   {
    "duration": 1232,
    "start_time": "2021-11-25T21:23:18.873Z"
   },
   {
    "duration": 122,
    "start_time": "2021-11-25T21:23:34.719Z"
   },
   {
    "duration": 29,
    "start_time": "2021-11-25T21:23:48.183Z"
   },
   {
    "duration": 612,
    "start_time": "2021-11-25T21:23:57.985Z"
   },
   {
    "duration": 10,
    "start_time": "2021-11-25T21:23:58.599Z"
   },
   {
    "duration": 811,
    "start_time": "2021-11-25T21:23:58.611Z"
   },
   {
    "duration": 8,
    "start_time": "2021-11-25T21:23:59.424Z"
   },
   {
    "duration": 28,
    "start_time": "2021-11-25T21:23:59.434Z"
   },
   {
    "duration": 26,
    "start_time": "2021-11-25T21:23:59.464Z"
   },
   {
    "duration": 39,
    "start_time": "2021-11-25T21:23:59.492Z"
   },
   {
    "duration": 32,
    "start_time": "2021-11-25T21:23:59.533Z"
   },
   {
    "duration": 3795,
    "start_time": "2021-11-25T21:23:59.567Z"
   },
   {
    "duration": 5480,
    "start_time": "2021-11-25T21:24:03.364Z"
   },
   {
    "duration": 115,
    "start_time": "2021-11-25T21:24:08.846Z"
   },
   {
    "duration": 28,
    "start_time": "2021-11-25T21:24:20.489Z"
   },
   {
    "duration": 63,
    "start_time": "2021-11-25T21:24:40.117Z"
   },
   {
    "duration": 104,
    "start_time": "2021-11-25T21:25:05.444Z"
   },
   {
    "duration": 681,
    "start_time": "2021-11-25T21:25:14.524Z"
   },
   {
    "duration": 10,
    "start_time": "2021-11-25T21:25:15.207Z"
   },
   {
    "duration": 809,
    "start_time": "2021-11-25T21:25:15.220Z"
   },
   {
    "duration": 15,
    "start_time": "2021-11-25T21:25:16.031Z"
   },
   {
    "duration": 11,
    "start_time": "2021-11-25T21:25:16.047Z"
   },
   {
    "duration": 14,
    "start_time": "2021-11-25T21:25:16.060Z"
   },
   {
    "duration": 7,
    "start_time": "2021-11-25T21:25:16.076Z"
   },
   {
    "duration": 27,
    "start_time": "2021-11-25T21:25:16.085Z"
   },
   {
    "duration": 3809,
    "start_time": "2021-11-25T21:25:16.113Z"
   },
   {
    "duration": 5636,
    "start_time": "2021-11-25T21:25:19.925Z"
   },
   {
    "duration": 121,
    "start_time": "2021-11-25T21:25:25.563Z"
   },
   {
    "duration": 29,
    "start_time": "2021-11-25T21:26:33.457Z"
   },
   {
    "duration": 1866,
    "start_time": "2021-11-25T21:30:04.933Z"
   },
   {
    "duration": 1445,
    "start_time": "2021-11-25T21:30:21.165Z"
   },
   {
    "duration": 12,
    "start_time": "2021-11-25T21:32:26.346Z"
   },
   {
    "duration": 30,
    "start_time": "2021-11-25T21:33:02.084Z"
   },
   {
    "duration": 10,
    "start_time": "2021-11-25T21:33:41.049Z"
   },
   {
    "duration": 646,
    "start_time": "2021-11-25T21:34:58.717Z"
   },
   {
    "duration": 11,
    "start_time": "2021-11-25T21:34:59.365Z"
   },
   {
    "duration": 814,
    "start_time": "2021-11-25T21:34:59.378Z"
   },
   {
    "duration": 6,
    "start_time": "2021-11-25T21:35:00.194Z"
   },
   {
    "duration": 10,
    "start_time": "2021-11-25T21:35:00.202Z"
   },
   {
    "duration": 31,
    "start_time": "2021-11-25T21:35:00.214Z"
   },
   {
    "duration": 7,
    "start_time": "2021-11-25T21:35:00.247Z"
   },
   {
    "duration": 20,
    "start_time": "2021-11-25T21:35:00.256Z"
   },
   {
    "duration": 3413,
    "start_time": "2021-11-25T21:35:00.278Z"
   },
   {
    "duration": 5590,
    "start_time": "2021-11-25T21:35:03.693Z"
   },
   {
    "duration": 121,
    "start_time": "2021-11-25T21:35:09.284Z"
   },
   {
    "duration": 20,
    "start_time": "2021-11-25T21:35:09.407Z"
   },
   {
    "duration": 9,
    "start_time": "2021-11-25T21:35:09.445Z"
   },
   {
    "duration": 717,
    "start_time": "2021-11-25T21:36:03.092Z"
   },
   {
    "duration": 11,
    "start_time": "2021-11-25T21:36:03.811Z"
   },
   {
    "duration": 892,
    "start_time": "2021-11-25T21:36:03.823Z"
   },
   {
    "duration": 6,
    "start_time": "2021-11-25T21:36:04.717Z"
   },
   {
    "duration": 30,
    "start_time": "2021-11-25T21:36:04.725Z"
   },
   {
    "duration": 39,
    "start_time": "2021-11-25T21:36:04.757Z"
   },
   {
    "duration": 23,
    "start_time": "2021-11-25T21:36:04.797Z"
   },
   {
    "duration": 34,
    "start_time": "2021-11-25T21:36:04.823Z"
   },
   {
    "duration": 3392,
    "start_time": "2021-11-25T21:36:04.859Z"
   },
   {
    "duration": 5574,
    "start_time": "2021-11-25T21:36:08.253Z"
   },
   {
    "duration": 119,
    "start_time": "2021-11-25T21:36:13.829Z"
   },
   {
    "duration": 17,
    "start_time": "2021-11-25T21:36:13.949Z"
   },
   {
    "duration": 32,
    "start_time": "2021-11-25T21:36:13.967Z"
   },
   {
    "duration": 605,
    "start_time": "2021-11-25T21:37:11.089Z"
   },
   {
    "duration": 11,
    "start_time": "2021-11-25T21:37:11.696Z"
   },
   {
    "duration": 816,
    "start_time": "2021-11-25T21:37:11.710Z"
   },
   {
    "duration": 19,
    "start_time": "2021-11-25T21:37:12.528Z"
   },
   {
    "duration": 16,
    "start_time": "2021-11-25T21:37:12.549Z"
   },
   {
    "duration": 35,
    "start_time": "2021-11-25T21:37:12.567Z"
   },
   {
    "duration": 16,
    "start_time": "2021-11-25T21:37:12.604Z"
   },
   {
    "duration": 30,
    "start_time": "2021-11-25T21:37:12.622Z"
   },
   {
    "duration": 3874,
    "start_time": "2021-11-25T21:37:12.655Z"
   },
   {
    "duration": 5712,
    "start_time": "2021-11-25T21:37:16.532Z"
   },
   {
    "duration": 122,
    "start_time": "2021-11-25T21:37:22.246Z"
   },
   {
    "duration": 33,
    "start_time": "2021-11-25T21:37:22.370Z"
   },
   {
    "duration": 24,
    "start_time": "2021-11-25T21:37:22.404Z"
   },
   {
    "duration": 836,
    "start_time": "2021-11-25T21:47:22.128Z"
   },
   {
    "duration": 16,
    "start_time": "2021-11-25T21:47:22.966Z"
   },
   {
    "duration": 1127,
    "start_time": "2021-11-25T21:47:22.985Z"
   },
   {
    "duration": 8,
    "start_time": "2021-11-25T21:47:24.114Z"
   },
   {
    "duration": 26,
    "start_time": "2021-11-25T21:47:24.124Z"
   },
   {
    "duration": 16,
    "start_time": "2021-11-25T21:47:24.152Z"
   },
   {
    "duration": 8,
    "start_time": "2021-11-25T21:47:24.169Z"
   },
   {
    "duration": 21,
    "start_time": "2021-11-25T21:47:24.179Z"
   },
   {
    "duration": 4103,
    "start_time": "2021-11-25T21:47:24.203Z"
   },
   {
    "duration": 5437,
    "start_time": "2021-11-25T21:47:28.308Z"
   },
   {
    "duration": 131,
    "start_time": "2021-11-25T21:47:33.747Z"
   },
   {
    "duration": 3,
    "start_time": "2021-11-25T21:47:33.880Z"
   },
   {
    "duration": 6,
    "start_time": "2021-11-25T21:47:33.885Z"
   },
   {
    "duration": 834,
    "start_time": "2021-11-25T21:47:54.637Z"
   },
   {
    "duration": 15,
    "start_time": "2021-11-25T21:47:55.473Z"
   },
   {
    "duration": 1221,
    "start_time": "2021-11-25T21:47:55.491Z"
   },
   {
    "duration": 7,
    "start_time": "2021-11-25T21:47:56.715Z"
   },
   {
    "duration": 28,
    "start_time": "2021-11-25T21:47:56.724Z"
   },
   {
    "duration": 21,
    "start_time": "2021-11-25T21:47:56.755Z"
   },
   {
    "duration": 9,
    "start_time": "2021-11-25T21:47:56.778Z"
   },
   {
    "duration": 54,
    "start_time": "2021-11-25T21:47:56.791Z"
   },
   {
    "duration": 3820,
    "start_time": "2021-11-25T21:47:56.848Z"
   },
   {
    "duration": 6080,
    "start_time": "2021-11-25T21:48:00.670Z"
   },
   {
    "duration": 124,
    "start_time": "2021-11-25T21:48:06.752Z"
   },
   {
    "duration": 614,
    "start_time": "2021-11-25T21:50:34.276Z"
   },
   {
    "duration": 12,
    "start_time": "2021-11-25T21:50:34.893Z"
   },
   {
    "duration": 824,
    "start_time": "2021-11-25T21:50:34.908Z"
   },
   {
    "duration": 14,
    "start_time": "2021-11-25T21:50:35.734Z"
   },
   {
    "duration": 17,
    "start_time": "2021-11-25T21:50:35.750Z"
   },
   {
    "duration": 19,
    "start_time": "2021-11-25T21:50:35.769Z"
   },
   {
    "duration": 17,
    "start_time": "2021-11-25T21:50:35.790Z"
   },
   {
    "duration": 30,
    "start_time": "2021-11-25T21:50:35.810Z"
   },
   {
    "duration": 3862,
    "start_time": "2021-11-25T21:50:35.845Z"
   },
   {
    "duration": 5590,
    "start_time": "2021-11-25T21:50:39.709Z"
   },
   {
    "duration": 143,
    "start_time": "2021-11-25T21:50:45.302Z"
   },
   {
    "duration": 676,
    "start_time": "2021-11-26T16:44:35.321Z"
   },
   {
    "duration": 11,
    "start_time": "2021-11-26T16:44:35.999Z"
   },
   {
    "duration": 852,
    "start_time": "2021-11-26T16:44:36.013Z"
   },
   {
    "duration": 7,
    "start_time": "2021-11-26T16:44:36.867Z"
   },
   {
    "duration": 31,
    "start_time": "2021-11-26T16:44:36.875Z"
   },
   {
    "duration": 25,
    "start_time": "2021-11-26T16:44:36.908Z"
   },
   {
    "duration": 22,
    "start_time": "2021-11-26T16:44:36.934Z"
   },
   {
    "duration": 37,
    "start_time": "2021-11-26T16:44:36.959Z"
   },
   {
    "duration": 3982,
    "start_time": "2021-11-26T16:44:36.998Z"
   },
   {
    "duration": 5713,
    "start_time": "2021-11-26T16:44:40.982Z"
   },
   {
    "duration": 152,
    "start_time": "2021-11-26T16:44:46.697Z"
   },
   {
    "duration": 75,
    "start_time": "2021-11-26T17:22:47.793Z"
   },
   {
    "duration": 77,
    "start_time": "2021-11-26T17:23:17.051Z"
   },
   {
    "duration": 81,
    "start_time": "2021-11-26T17:23:22.033Z"
   },
   {
    "duration": 6,
    "start_time": "2021-11-26T17:23:38.322Z"
   },
   {
    "duration": 18,
    "start_time": "2021-11-26T17:31:42.660Z"
   },
   {
    "duration": 12,
    "start_time": "2021-11-26T17:33:18.404Z"
   },
   {
    "duration": 12,
    "start_time": "2021-11-26T17:35:02.976Z"
   },
   {
    "duration": 817,
    "start_time": "2021-11-26T20:19:19.909Z"
   },
   {
    "duration": 16,
    "start_time": "2021-11-26T20:19:20.732Z"
   },
   {
    "duration": 1179,
    "start_time": "2021-11-26T20:19:20.752Z"
   },
   {
    "duration": 11,
    "start_time": "2021-11-26T20:19:21.934Z"
   },
   {
    "duration": 17,
    "start_time": "2021-11-26T20:19:21.947Z"
   },
   {
    "duration": 20,
    "start_time": "2021-11-26T20:19:21.966Z"
   },
   {
    "duration": 47,
    "start_time": "2021-11-26T20:19:21.988Z"
   },
   {
    "duration": 28,
    "start_time": "2021-11-26T20:19:22.038Z"
   },
   {
    "duration": 4672,
    "start_time": "2021-11-26T20:19:22.069Z"
   },
   {
    "duration": 8513,
    "start_time": "2021-11-26T20:19:26.744Z"
   },
   {
    "duration": 169,
    "start_time": "2021-11-26T20:19:35.259Z"
   },
   {
    "duration": 80,
    "start_time": "2021-11-26T20:19:35.431Z"
   },
   {
    "duration": 6764,
    "start_time": "2021-11-26T20:20:46.186Z"
   },
   {
    "duration": 43,
    "start_time": "2021-11-26T20:21:03.112Z"
   },
   {
    "duration": 36,
    "start_time": "2021-11-26T20:24:28.141Z"
   },
   {
    "duration": 41,
    "start_time": "2021-11-26T20:25:08.022Z"
   },
   {
    "duration": 8,
    "start_time": "2021-11-26T20:26:35.743Z"
   },
   {
    "duration": 39,
    "start_time": "2021-11-26T20:28:06.227Z"
   },
   {
    "duration": 25,
    "start_time": "2021-11-26T20:28:30.384Z"
   },
   {
    "duration": 30,
    "start_time": "2021-11-26T20:28:42.048Z"
   },
   {
    "duration": 22,
    "start_time": "2021-11-26T20:29:32.710Z"
   },
   {
    "duration": 26,
    "start_time": "2021-11-26T20:29:40.059Z"
   },
   {
    "duration": 24,
    "start_time": "2021-11-26T20:29:59.374Z"
   },
   {
    "duration": 23,
    "start_time": "2021-11-26T20:30:55.408Z"
   },
   {
    "duration": 24,
    "start_time": "2021-11-26T20:31:31.349Z"
   },
   {
    "duration": 258,
    "start_time": "2021-11-26T20:31:49.745Z"
   },
   {
    "duration": 6,
    "start_time": "2021-11-26T20:31:54.404Z"
   },
   {
    "duration": 22,
    "start_time": "2021-11-26T20:32:02.377Z"
   },
   {
    "duration": 243,
    "start_time": "2021-11-26T20:33:23.187Z"
   },
   {
    "duration": 6,
    "start_time": "2021-11-26T20:33:28.709Z"
   },
   {
    "duration": 280,
    "start_time": "2021-11-26T20:33:34.177Z"
   },
   {
    "duration": 5,
    "start_time": "2021-11-26T20:34:10.840Z"
   },
   {
    "duration": 24,
    "start_time": "2021-11-26T20:34:44.552Z"
   },
   {
    "duration": 38,
    "start_time": "2021-11-26T20:35:02.514Z"
   },
   {
    "duration": 76,
    "start_time": "2021-11-28T09:36:11.049Z"
   },
   {
    "duration": 682,
    "start_time": "2021-11-28T09:36:28.364Z"
   },
   {
    "duration": 12,
    "start_time": "2021-11-28T09:36:29.049Z"
   },
   {
    "duration": 854,
    "start_time": "2021-11-28T09:36:29.063Z"
   },
   {
    "duration": 6,
    "start_time": "2021-11-28T09:36:29.919Z"
   },
   {
    "duration": 10,
    "start_time": "2021-11-28T09:36:29.927Z"
   },
   {
    "duration": 29,
    "start_time": "2021-11-28T09:36:29.938Z"
   },
   {
    "duration": 3,
    "start_time": "2021-11-28T09:36:29.969Z"
   },
   {
    "duration": 16,
    "start_time": "2021-11-28T09:36:29.973Z"
   },
   {
    "duration": 15,
    "start_time": "2021-11-28T09:36:29.992Z"
   },
   {
    "duration": 8,
    "start_time": "2021-11-28T09:36:30.009Z"
   },
   {
    "duration": 56,
    "start_time": "2021-11-28T09:36:30.019Z"
   },
   {
    "duration": 1988,
    "start_time": "2021-11-28T09:36:30.077Z"
   },
   {
    "duration": -2377,
    "start_time": "2021-11-28T09:36:34.444Z"
   },
   {
    "duration": -2379,
    "start_time": "2021-11-28T09:36:34.447Z"
   },
   {
    "duration": -2382,
    "start_time": "2021-11-28T09:36:34.450Z"
   },
   {
    "duration": 60,
    "start_time": "2021-11-28T09:36:39.673Z"
   },
   {
    "duration": 56,
    "start_time": "2021-11-28T09:36:46.752Z"
   },
   {
    "duration": 651,
    "start_time": "2021-11-28T09:39:06.961Z"
   },
   {
    "duration": 18,
    "start_time": "2021-11-28T09:39:07.615Z"
   },
   {
    "duration": 808,
    "start_time": "2021-11-28T09:39:07.638Z"
   },
   {
    "duration": 16,
    "start_time": "2021-11-28T09:39:08.449Z"
   },
   {
    "duration": 53,
    "start_time": "2021-11-28T09:39:08.467Z"
   },
   {
    "duration": 18,
    "start_time": "2021-11-28T09:39:08.522Z"
   },
   {
    "duration": 4,
    "start_time": "2021-11-28T09:39:08.543Z"
   },
   {
    "duration": 17,
    "start_time": "2021-11-28T09:39:08.549Z"
   },
   {
    "duration": 14,
    "start_time": "2021-11-28T09:39:08.568Z"
   },
   {
    "duration": 7,
    "start_time": "2021-11-28T09:39:08.583Z"
   },
   {
    "duration": 27,
    "start_time": "2021-11-28T09:39:08.592Z"
   },
   {
    "duration": 1891,
    "start_time": "2021-11-28T09:39:08.621Z"
   },
   {
    "duration": -2359,
    "start_time": "2021-11-28T09:39:12.874Z"
   },
   {
    "duration": -2362,
    "start_time": "2021-11-28T09:39:12.878Z"
   },
   {
    "duration": -2361,
    "start_time": "2021-11-28T09:39:12.879Z"
   },
   {
    "duration": 5,
    "start_time": "2021-11-28T09:39:22.360Z"
   },
   {
    "duration": 679,
    "start_time": "2021-11-28T10:11:15.263Z"
   },
   {
    "duration": 17,
    "start_time": "2021-11-28T10:11:20.937Z"
   },
   {
    "duration": 1214,
    "start_time": "2021-11-28T10:11:24.733Z"
   },
   {
    "duration": 9,
    "start_time": "2021-11-28T10:11:29.214Z"
   },
   {
    "duration": 4,
    "start_time": "2021-11-28T10:11:30.749Z"
   },
   {
    "duration": 17,
    "start_time": "2021-11-28T10:11:31.913Z"
   },
   {
    "duration": 4,
    "start_time": "2021-11-28T10:11:33.042Z"
   },
   {
    "duration": 14,
    "start_time": "2021-11-28T10:11:43.745Z"
   },
   {
    "duration": 928,
    "start_time": "2021-11-28T10:12:01.499Z"
   },
   {
    "duration": 4,
    "start_time": "2021-11-28T10:12:03.600Z"
   },
   {
    "duration": 4,
    "start_time": "2021-11-28T10:13:07.694Z"
   },
   {
    "duration": 57,
    "start_time": "2021-11-28T10:13:15.323Z"
   },
   {
    "duration": 11,
    "start_time": "2021-11-28T10:13:16.773Z"
   },
   {
    "duration": 860,
    "start_time": "2021-11-28T10:13:17.596Z"
   },
   {
    "duration": 7,
    "start_time": "2021-11-28T10:13:18.463Z"
   },
   {
    "duration": 5,
    "start_time": "2021-11-28T10:13:20.923Z"
   },
   {
    "duration": 15,
    "start_time": "2021-11-28T10:13:21.792Z"
   },
   {
    "duration": 5,
    "start_time": "2021-11-28T10:13:22.761Z"
   },
   {
    "duration": 690,
    "start_time": "2021-11-28T10:14:53.835Z"
   },
   {
    "duration": 12,
    "start_time": "2021-11-28T10:14:54.527Z"
   },
   {
    "duration": 824,
    "start_time": "2021-11-28T10:14:54.541Z"
   },
   {
    "duration": 6,
    "start_time": "2021-11-28T10:14:55.368Z"
   },
   {
    "duration": 5,
    "start_time": "2021-11-28T10:14:55.376Z"
   },
   {
    "duration": 8,
    "start_time": "2021-11-28T10:14:55.383Z"
   },
   {
    "duration": 13,
    "start_time": "2021-11-28T10:14:55.393Z"
   },
   {
    "duration": 14,
    "start_time": "2021-11-28T10:14:55.408Z"
   },
   {
    "duration": 16,
    "start_time": "2021-11-28T10:14:55.425Z"
   },
   {
    "duration": 27,
    "start_time": "2021-11-28T10:14:55.443Z"
   },
   {
    "duration": 25,
    "start_time": "2021-11-28T10:14:55.472Z"
   },
   {
    "duration": 4101,
    "start_time": "2021-11-28T10:14:55.499Z"
   },
   {
    "duration": 5541,
    "start_time": "2021-11-28T10:14:59.602Z"
   },
   {
    "duration": 153,
    "start_time": "2021-11-28T10:15:05.145Z"
   },
   {
    "duration": 26,
    "start_time": "2021-11-28T10:15:05.301Z"
   },
   {
    "duration": 11,
    "start_time": "2021-11-28T10:19:27.650Z"
   },
   {
    "duration": 64,
    "start_time": "2021-11-28T10:20:01.950Z"
   },
   {
    "duration": 17,
    "start_time": "2021-11-28T10:20:03.459Z"
   },
   {
    "duration": 260,
    "start_time": "2021-11-28T10:20:04.446Z"
   },
   {
    "duration": 8,
    "start_time": "2021-11-28T10:20:05.497Z"
   },
   {
    "duration": 4,
    "start_time": "2021-11-28T10:20:06.408Z"
   },
   {
    "duration": 6,
    "start_time": "2021-11-28T10:20:07.524Z"
   },
   {
    "duration": 7,
    "start_time": "2021-11-28T10:22:27.004Z"
   },
   {
    "duration": 9,
    "start_time": "2021-11-28T10:22:35.530Z"
   },
   {
    "duration": 11,
    "start_time": "2021-11-28T10:22:46.022Z"
   },
   {
    "duration": 4,
    "start_time": "2021-11-28T10:22:48.766Z"
   },
   {
    "duration": 10,
    "start_time": "2021-11-28T10:22:58.002Z"
   },
   {
    "duration": 5,
    "start_time": "2021-11-28T10:22:58.853Z"
   },
   {
    "duration": 8,
    "start_time": "2021-11-28T10:28:56.923Z"
   },
   {
    "duration": 8,
    "start_time": "2021-11-28T10:29:04.990Z"
   },
   {
    "duration": 9,
    "start_time": "2021-11-28T10:29:25.315Z"
   },
   {
    "duration": 8,
    "start_time": "2021-11-28T10:29:31.907Z"
   },
   {
    "duration": 82,
    "start_time": "2021-11-28T10:30:16.554Z"
   },
   {
    "duration": 14,
    "start_time": "2021-11-28T10:30:26.521Z"
   },
   {
    "duration": 1241,
    "start_time": "2021-11-28T10:34:07.755Z"
   },
   {
    "duration": 1120,
    "start_time": "2021-11-28T10:35:59.146Z"
   },
   {
    "duration": 687,
    "start_time": "2021-11-28T10:36:17.329Z"
   },
   {
    "duration": 10,
    "start_time": "2021-11-28T10:36:18.018Z"
   },
   {
    "duration": 873,
    "start_time": "2021-11-28T10:36:18.030Z"
   },
   {
    "duration": 6,
    "start_time": "2021-11-28T10:36:18.906Z"
   },
   {
    "duration": 5,
    "start_time": "2021-11-28T10:36:18.914Z"
   },
   {
    "duration": 11,
    "start_time": "2021-11-28T10:36:18.920Z"
   },
   {
    "duration": 4,
    "start_time": "2021-11-28T10:36:18.933Z"
   },
   {
    "duration": 33,
    "start_time": "2021-11-28T10:36:18.938Z"
   },
   {
    "duration": 16,
    "start_time": "2021-11-28T10:36:18.974Z"
   },
   {
    "duration": 15,
    "start_time": "2021-11-28T10:36:18.992Z"
   },
   {
    "duration": 7,
    "start_time": "2021-11-28T10:36:19.009Z"
   },
   {
    "duration": 45,
    "start_time": "2021-11-28T10:36:19.018Z"
   },
   {
    "duration": 3836,
    "start_time": "2021-11-28T10:36:19.065Z"
   },
   {
    "duration": 5727,
    "start_time": "2021-11-28T10:36:22.903Z"
   },
   {
    "duration": 159,
    "start_time": "2021-11-28T10:36:28.631Z"
   },
   {
    "duration": 1233,
    "start_time": "2021-11-28T10:36:28.792Z"
   },
   {
    "duration": 20,
    "start_time": "2021-11-28T10:36:56.716Z"
   },
   {
    "duration": 250,
    "start_time": "2021-11-28T10:43:11.447Z"
   },
   {
    "duration": 25,
    "start_time": "2021-11-28T10:56:14.637Z"
   },
   {
    "duration": 21,
    "start_time": "2021-11-28T10:56:55.609Z"
   },
   {
    "duration": 78,
    "start_time": "2021-11-28T10:58:11.337Z"
   },
   {
    "duration": 252,
    "start_time": "2021-11-28T10:58:16.397Z"
   },
   {
    "duration": 20,
    "start_time": "2021-11-28T10:58:30.235Z"
   },
   {
    "duration": 260,
    "start_time": "2021-11-28T11:07:17.970Z"
   },
   {
    "duration": 15,
    "start_time": "2021-11-28T11:07:33.093Z"
   },
   {
    "duration": 19,
    "start_time": "2021-11-28T11:09:23.941Z"
   },
   {
    "duration": 21,
    "start_time": "2021-11-28T11:09:28.986Z"
   },
   {
    "duration": 20,
    "start_time": "2021-11-28T11:09:41.660Z"
   },
   {
    "duration": 670,
    "start_time": "2021-11-28T11:09:54.477Z"
   },
   {
    "duration": 11,
    "start_time": "2021-11-28T11:09:55.149Z"
   },
   {
    "duration": 1203,
    "start_time": "2021-11-28T11:09:55.163Z"
   },
   {
    "duration": 9,
    "start_time": "2021-11-28T11:09:56.368Z"
   },
   {
    "duration": 8,
    "start_time": "2021-11-28T11:09:56.379Z"
   },
   {
    "duration": 12,
    "start_time": "2021-11-28T11:09:56.389Z"
   },
   {
    "duration": 5,
    "start_time": "2021-11-28T11:09:56.403Z"
   },
   {
    "duration": 11,
    "start_time": "2021-11-28T11:09:56.410Z"
   },
   {
    "duration": 47,
    "start_time": "2021-11-28T11:09:56.424Z"
   },
   {
    "duration": 18,
    "start_time": "2021-11-28T11:09:56.474Z"
   },
   {
    "duration": 9,
    "start_time": "2021-11-28T11:09:56.494Z"
   },
   {
    "duration": 22,
    "start_time": "2021-11-28T11:09:56.505Z"
   },
   {
    "duration": 4058,
    "start_time": "2021-11-28T11:09:56.529Z"
   },
   {
    "duration": 8129,
    "start_time": "2021-11-28T11:10:00.590Z"
   },
   {
    "duration": 234,
    "start_time": "2021-11-28T11:10:08.721Z"
   },
   {
    "duration": 30,
    "start_time": "2021-11-28T11:10:08.957Z"
   },
   {
    "duration": -2383,
    "start_time": "2021-11-28T11:10:11.720Z"
   },
   {
    "duration": 26,
    "start_time": "2021-11-28T11:10:18.751Z"
   },
   {
    "duration": 26,
    "start_time": "2021-11-28T11:11:55.413Z"
   },
   {
    "duration": 261,
    "start_time": "2021-11-28T11:14:50.421Z"
   },
   {
    "duration": 278,
    "start_time": "2021-11-28T11:15:00.971Z"
   },
   {
    "duration": 24,
    "start_time": "2021-11-28T11:15:34.544Z"
   },
   {
    "duration": 181,
    "start_time": "2021-11-28T11:16:02.589Z"
   },
   {
    "duration": 78,
    "start_time": "2021-11-28T11:16:25.057Z"
   },
   {
    "duration": 15,
    "start_time": "2021-11-28T11:16:28.710Z"
   },
   {
    "duration": 240,
    "start_time": "2021-11-28T11:18:17.092Z"
   },
   {
    "duration": 7,
    "start_time": "2021-11-28T11:18:26.067Z"
   },
   {
    "duration": 242,
    "start_time": "2021-11-28T11:18:54.637Z"
   },
   {
    "duration": 8,
    "start_time": "2021-11-28T11:19:02.024Z"
   },
   {
    "duration": 10,
    "start_time": "2021-11-28T11:19:36.235Z"
   },
   {
    "duration": 10,
    "start_time": "2021-11-28T11:20:03.969Z"
   },
   {
    "duration": 8,
    "start_time": "2021-11-28T11:20:39.362Z"
   },
   {
    "duration": 9,
    "start_time": "2021-11-28T11:20:42.109Z"
   },
   {
    "duration": 7,
    "start_time": "2021-11-28T11:20:42.706Z"
   },
   {
    "duration": 11,
    "start_time": "2021-11-28T11:21:26.951Z"
   },
   {
    "duration": 11,
    "start_time": "2021-11-28T11:26:22.377Z"
   },
   {
    "duration": 245,
    "start_time": "2021-11-28T11:33:03.620Z"
   },
   {
    "duration": 294,
    "start_time": "2021-11-28T11:37:24.328Z"
   },
   {
    "duration": 208047,
    "start_time": "2021-11-28T11:41:59.916Z"
   },
   {
    "duration": 244,
    "start_time": "2021-11-28T11:51:25.970Z"
   },
   {
    "duration": 622,
    "start_time": "2021-11-28T11:52:14.154Z"
   },
   {
    "duration": 242,
    "start_time": "2021-11-28T11:52:21.759Z"
   },
   {
    "duration": 255,
    "start_time": "2021-11-28T11:52:29.922Z"
   },
   {
    "duration": 268,
    "start_time": "2021-11-28T11:52:44.118Z"
   },
   {
    "duration": 230,
    "start_time": "2021-11-28T11:52:53.899Z"
   },
   {
    "duration": 11,
    "start_time": "2021-11-28T11:53:24.217Z"
   },
   {
    "duration": 9,
    "start_time": "2021-11-28T11:53:37.411Z"
   },
   {
    "duration": 10,
    "start_time": "2021-11-28T11:53:42.272Z"
   },
   {
    "duration": 14,
    "start_time": "2021-11-28T11:53:55.834Z"
   },
   {
    "duration": 850,
    "start_time": "2021-11-30T19:22:33.860Z"
   },
   {
    "duration": 17,
    "start_time": "2021-11-30T19:22:34.714Z"
   },
   {
    "duration": 1247,
    "start_time": "2021-11-30T19:22:34.735Z"
   },
   {
    "duration": 9,
    "start_time": "2021-11-30T19:22:35.985Z"
   },
   {
    "duration": 5,
    "start_time": "2021-11-30T19:22:35.996Z"
   },
   {
    "duration": 14,
    "start_time": "2021-11-30T19:22:36.003Z"
   },
   {
    "duration": 6,
    "start_time": "2021-11-30T19:22:36.020Z"
   },
   {
    "duration": 13,
    "start_time": "2021-11-30T19:22:36.069Z"
   },
   {
    "duration": 454,
    "start_time": "2021-11-30T19:22:36.086Z"
   },
   {
    "duration": 30,
    "start_time": "2021-11-30T19:22:36.542Z"
   },
   {
    "duration": 23,
    "start_time": "2021-11-30T19:22:36.575Z"
   },
   {
    "duration": 11,
    "start_time": "2021-11-30T19:22:36.601Z"
   },
   {
    "duration": 62,
    "start_time": "2021-11-30T19:22:36.614Z"
   },
   {
    "duration": 5850,
    "start_time": "2021-11-30T19:22:36.679Z"
   },
   {
    "duration": 9469,
    "start_time": "2021-11-30T19:22:42.532Z"
   },
   {
    "duration": 184,
    "start_time": "2021-11-30T19:22:52.005Z"
   },
   {
    "duration": 48,
    "start_time": "2021-11-30T19:22:52.192Z"
   },
   {
    "duration": 33,
    "start_time": "2021-11-30T19:22:52.249Z"
   },
   {
    "duration": 11,
    "start_time": "2021-11-30T19:22:52.285Z"
   },
   {
    "duration": 21,
    "start_time": "2021-11-30T19:22:52.299Z"
   },
   {
    "duration": 55,
    "start_time": "2021-11-30T19:22:52.323Z"
   },
   {
    "duration": 7772,
    "start_time": "2021-11-30T19:22:52.381Z"
   },
   {
    "duration": -5084,
    "start_time": "2021-11-30T19:23:05.240Z"
   },
   {
    "duration": -5084,
    "start_time": "2021-11-30T19:23:05.242Z"
   },
   {
    "duration": -5083,
    "start_time": "2021-11-30T19:23:05.244Z"
   },
   {
    "duration": 9337,
    "start_time": "2021-11-30T19:25:52.927Z"
   },
   {
    "duration": 6,
    "start_time": "2021-11-30T19:26:14.865Z"
   },
   {
    "duration": 5243,
    "start_time": "2021-11-30T19:26:46.163Z"
   },
   {
    "duration": 8,
    "start_time": "2021-11-30T19:28:16.907Z"
   },
   {
    "duration": 652,
    "start_time": "2021-11-30T19:28:50.157Z"
   },
   {
    "duration": 44,
    "start_time": "2021-11-30T19:46:28.218Z"
   },
   {
    "duration": 44,
    "start_time": "2021-11-30T19:46:46.631Z"
   },
   {
    "duration": 18,
    "start_time": "2021-11-30T19:47:37.743Z"
   },
   {
    "duration": 17,
    "start_time": "2021-11-30T19:48:01.974Z"
   },
   {
    "duration": 86,
    "start_time": "2021-11-30T19:50:11.508Z"
   },
   {
    "duration": 85,
    "start_time": "2021-11-30T19:50:43.761Z"
   },
   {
    "duration": 76,
    "start_time": "2021-11-30T19:50:54.364Z"
   },
   {
    "duration": 49,
    "start_time": "2021-11-30T19:52:09.238Z"
   },
   {
    "duration": 15,
    "start_time": "2021-11-30T19:52:56.104Z"
   },
   {
    "duration": 12,
    "start_time": "2021-11-30T20:05:17.807Z"
   },
   {
    "duration": 22,
    "start_time": "2021-11-30T20:19:58.678Z"
   },
   {
    "duration": 5564,
    "start_time": "2021-11-30T20:20:51.507Z"
   },
   {
    "duration": 43,
    "start_time": "2021-11-30T20:29:28.125Z"
   },
   {
    "duration": 1023,
    "start_time": "2021-11-30T20:32:00.293Z"
   },
   {
    "duration": 16,
    "start_time": "2021-11-30T20:32:01.318Z"
   },
   {
    "duration": 1284,
    "start_time": "2021-11-30T20:32:01.338Z"
   },
   {
    "duration": 8,
    "start_time": "2021-11-30T20:32:02.626Z"
   },
   {
    "duration": 5,
    "start_time": "2021-11-30T20:32:02.637Z"
   },
   {
    "duration": 13,
    "start_time": "2021-11-30T20:32:02.666Z"
   },
   {
    "duration": 6,
    "start_time": "2021-11-30T20:32:02.681Z"
   },
   {
    "duration": 13,
    "start_time": "2021-11-30T20:32:02.691Z"
   },
   {
    "duration": 462,
    "start_time": "2021-11-30T20:32:02.708Z"
   },
   {
    "duration": 16,
    "start_time": "2021-11-30T20:32:03.172Z"
   },
   {
    "duration": 21,
    "start_time": "2021-11-30T20:32:03.191Z"
   },
   {
    "duration": 10,
    "start_time": "2021-11-30T20:32:03.214Z"
   },
   {
    "duration": 58,
    "start_time": "2021-11-30T20:32:03.227Z"
   },
   {
    "duration": 4979,
    "start_time": "2021-11-30T20:32:03.288Z"
   },
   {
    "duration": 8935,
    "start_time": "2021-11-30T20:32:08.270Z"
   },
   {
    "duration": 186,
    "start_time": "2021-11-30T20:32:17.207Z"
   },
   {
    "duration": 413,
    "start_time": "2021-11-30T20:32:17.395Z"
   },
   {
    "duration": -5090,
    "start_time": "2021-11-30T20:32:22.900Z"
   },
   {
    "duration": -5090,
    "start_time": "2021-11-30T20:32:22.902Z"
   },
   {
    "duration": -5108,
    "start_time": "2021-11-30T20:32:22.921Z"
   },
   {
    "duration": -5108,
    "start_time": "2021-11-30T20:32:22.923Z"
   },
   {
    "duration": -5109,
    "start_time": "2021-11-30T20:32:22.925Z"
   },
   {
    "duration": -5110,
    "start_time": "2021-11-30T20:32:22.927Z"
   },
   {
    "duration": -5112,
    "start_time": "2021-11-30T20:32:22.931Z"
   },
   {
    "duration": -5113,
    "start_time": "2021-11-30T20:32:22.933Z"
   },
   {
    "duration": -5113,
    "start_time": "2021-11-30T20:32:22.935Z"
   },
   {
    "duration": -5113,
    "start_time": "2021-11-30T20:32:22.936Z"
   },
   {
    "duration": 24,
    "start_time": "2021-11-30T20:32:30.088Z"
   },
   {
    "duration": 40,
    "start_time": "2021-11-30T20:32:46.713Z"
   },
   {
    "duration": 28,
    "start_time": "2021-11-30T20:32:58.612Z"
   },
   {
    "duration": 40,
    "start_time": "2021-11-30T20:33:00.626Z"
   },
   {
    "duration": 16,
    "start_time": "2021-11-30T20:36:03.382Z"
   },
   {
    "duration": 12,
    "start_time": "2021-11-30T20:36:16.561Z"
   },
   {
    "duration": 15,
    "start_time": "2021-11-30T20:36:18.597Z"
   },
   {
    "duration": 15,
    "start_time": "2021-11-30T20:38:24.195Z"
   },
   {
    "duration": 10,
    "start_time": "2021-11-30T20:40:09.131Z"
   },
   {
    "duration": 15,
    "start_time": "2021-11-30T20:40:09.703Z"
   },
   {
    "duration": 13,
    "start_time": "2021-11-30T20:41:34.984Z"
   },
   {
    "duration": 13,
    "start_time": "2021-11-30T20:41:35.637Z"
   },
   {
    "duration": 17,
    "start_time": "2021-11-30T20:41:36.105Z"
   },
   {
    "duration": 844,
    "start_time": "2021-11-30T20:52:34.964Z"
   },
   {
    "duration": 18,
    "start_time": "2021-11-30T20:52:35.812Z"
   },
   {
    "duration": 1156,
    "start_time": "2021-11-30T20:52:35.837Z"
   },
   {
    "duration": 8,
    "start_time": "2021-11-30T20:52:36.996Z"
   },
   {
    "duration": 7,
    "start_time": "2021-11-30T20:52:37.006Z"
   },
   {
    "duration": 12,
    "start_time": "2021-11-30T20:52:37.016Z"
   },
   {
    "duration": 34,
    "start_time": "2021-11-30T20:52:37.033Z"
   },
   {
    "duration": 23,
    "start_time": "2021-11-30T20:52:37.070Z"
   },
   {
    "duration": 441,
    "start_time": "2021-11-30T20:52:37.095Z"
   },
   {
    "duration": 30,
    "start_time": "2021-11-30T20:52:37.538Z"
   },
   {
    "duration": 21,
    "start_time": "2021-11-30T20:52:37.570Z"
   },
   {
    "duration": 9,
    "start_time": "2021-11-30T20:52:37.594Z"
   },
   {
    "duration": 27,
    "start_time": "2021-11-30T20:52:37.605Z"
   },
   {
    "duration": 5175,
    "start_time": "2021-11-30T20:52:37.634Z"
   },
   {
    "duration": 9003,
    "start_time": "2021-11-30T20:52:42.812Z"
   },
   {
    "duration": 189,
    "start_time": "2021-11-30T20:52:51.817Z"
   },
   {
    "duration": 25,
    "start_time": "2021-11-30T20:52:52.008Z"
   },
   {
    "duration": 63,
    "start_time": "2021-11-30T20:52:52.036Z"
   },
   {
    "duration": 18,
    "start_time": "2021-11-30T20:52:52.102Z"
   },
   {
    "duration": 12,
    "start_time": "2021-11-30T20:52:52.123Z"
   },
   {
    "duration": 15,
    "start_time": "2021-11-30T20:52:52.167Z"
   },
   {
    "duration": 15,
    "start_time": "2021-11-30T20:52:52.186Z"
   },
   {
    "duration": 10,
    "start_time": "2021-11-30T20:52:52.204Z"
   },
   {
    "duration": 59,
    "start_time": "2021-11-30T20:52:52.217Z"
   },
   {
    "duration": 13,
    "start_time": "2021-11-30T20:52:52.279Z"
   },
   {
    "duration": 14,
    "start_time": "2021-11-30T20:52:52.295Z"
   },
   {
    "duration": 17,
    "start_time": "2021-11-30T20:52:52.312Z"
   },
   {
    "duration": 1425,
    "start_time": "2021-12-02T05:45:41.134Z"
   },
   {
    "duration": 93,
    "start_time": "2021-12-02T05:45:42.562Z"
   },
   {
    "duration": 130,
    "start_time": "2021-12-02T05:46:17.624Z"
   },
   {
    "duration": 74,
    "start_time": "2021-12-02T05:46:29.990Z"
   },
   {
    "duration": 17,
    "start_time": "2021-12-02T05:46:40.598Z"
   },
   {
    "duration": 74,
    "start_time": "2021-12-02T05:46:46.544Z"
   },
   {
    "duration": 92,
    "start_time": "2021-12-02T05:47:14.634Z"
   },
   {
    "duration": 101,
    "start_time": "2021-12-02T07:39:49.382Z"
   },
   {
    "duration": 104,
    "start_time": "2021-12-02T07:40:01.384Z"
   },
   {
    "duration": 112,
    "start_time": "2021-12-02T07:40:10.682Z"
   },
   {
    "duration": 449,
    "start_time": "2021-12-02T07:59:58.719Z"
   },
   {
    "duration": 4,
    "start_time": "2021-12-02T08:00:09.041Z"
   },
   {
    "duration": 78,
    "start_time": "2021-12-02T08:00:09.894Z"
   },
   {
    "duration": 1510,
    "start_time": "2021-12-02T08:00:21.223Z"
   },
   {
    "duration": 96,
    "start_time": "2021-12-02T08:00:22.744Z"
   },
   {
    "duration": 18,
    "start_time": "2021-12-02T08:00:28.220Z"
   },
   {
    "duration": 50,
    "start_time": "2021-12-02T08:00:29.012Z"
   },
   {
    "duration": 17,
    "start_time": "2021-12-02T08:00:34.514Z"
   },
   {
    "duration": 686,
    "start_time": "2021-12-02T08:00:38.625Z"
   },
   {
    "duration": 431,
    "start_time": "2021-12-02T08:17:35.750Z"
   },
   {
    "duration": 1591,
    "start_time": "2021-12-02T08:17:46.759Z"
   },
   {
    "duration": 84,
    "start_time": "2021-12-02T08:17:48.950Z"
   },
   {
    "duration": 17,
    "start_time": "2021-12-02T08:17:49.583Z"
   },
   {
    "duration": 50,
    "start_time": "2021-12-02T08:17:51.129Z"
   },
   {
    "duration": 16,
    "start_time": "2021-12-02T08:17:55.086Z"
   },
   {
    "duration": 541,
    "start_time": "2021-12-02T08:17:58.703Z"
   },
   {
    "duration": 344,
    "start_time": "2021-12-02T08:18:07.997Z"
   },
   {
    "duration": 317,
    "start_time": "2021-12-02T08:18:28.376Z"
   },
   {
    "duration": -7507,
    "start_time": "2021-12-02T08:20:38.350Z"
   },
   {
    "duration": 406,
    "start_time": "2021-12-02T08:30:51.813Z"
   },
   {
    "duration": 357,
    "start_time": "2021-12-02T08:31:11.631Z"
   },
   {
    "duration": 6,
    "start_time": "2021-12-02T08:31:19.115Z"
   },
   {
    "duration": 467,
    "start_time": "2021-12-02T08:31:22.810Z"
   },
   {
    "duration": 381,
    "start_time": "2021-12-02T08:32:07.043Z"
   },
   {
    "duration": 344,
    "start_time": "2021-12-02T08:32:48.280Z"
   },
   {
    "duration": 308,
    "start_time": "2021-12-02T08:32:56.213Z"
   },
   {
    "duration": 668,
    "start_time": "2021-12-02T08:39:20.241Z"
   },
   {
    "duration": 739,
    "start_time": "2021-12-02T08:46:33.953Z"
   },
   {
    "duration": 649,
    "start_time": "2021-12-02T08:46:41.051Z"
   },
   {
    "duration": 12,
    "start_time": "2021-12-02T08:46:43.991Z"
   },
   {
    "duration": 6,
    "start_time": "2021-12-02T08:46:44.526Z"
   },
   {
    "duration": 15,
    "start_time": "2021-12-02T08:46:44.981Z"
   },
   {
    "duration": 5,
    "start_time": "2021-12-02T08:46:45.540Z"
   },
   {
    "duration": 16,
    "start_time": "2021-12-02T08:46:46.050Z"
   },
   {
    "duration": 865,
    "start_time": "2021-12-02T08:46:46.566Z"
   },
   {
    "duration": 24,
    "start_time": "2021-12-02T08:46:56.588Z"
   },
   {
    "duration": 26,
    "start_time": "2021-12-02T08:46:57.281Z"
   },
   {
    "duration": 164,
    "start_time": "2021-12-02T09:17:40.085Z"
   },
   {
    "duration": 101,
    "start_time": "2021-12-02T09:17:55.488Z"
   },
   {
    "duration": 114,
    "start_time": "2021-12-02T10:25:36.131Z"
   },
   {
    "duration": 109,
    "start_time": "2021-12-02T10:26:28.768Z"
   },
   {
    "duration": 134,
    "start_time": "2021-12-02T10:27:15.002Z"
   },
   {
    "duration": 124,
    "start_time": "2021-12-02T10:29:07.071Z"
   },
   {
    "duration": 10,
    "start_time": "2021-12-02T10:35:04.323Z"
   },
   {
    "duration": 95,
    "start_time": "2021-12-02T10:35:15.367Z"
   },
   {
    "duration": 100,
    "start_time": "2021-12-02T10:35:32.731Z"
   },
   {
    "duration": 84,
    "start_time": "2021-12-02T10:35:56.508Z"
   },
   {
    "duration": 109,
    "start_time": "2021-12-02T10:37:46.118Z"
   },
   {
    "duration": 79,
    "start_time": "2021-12-02T10:38:42.064Z"
   },
   {
    "duration": 30,
    "start_time": "2021-12-02T10:39:10.709Z"
   },
   {
    "duration": 55,
    "start_time": "2021-12-02T10:39:37.413Z"
   },
   {
    "duration": 76,
    "start_time": "2021-12-02T10:39:49.491Z"
   },
   {
    "duration": 10211,
    "start_time": "2021-12-02T10:40:42.922Z"
   },
   {
    "duration": 58,
    "start_time": "2021-12-02T10:41:20.946Z"
   },
   {
    "duration": 5946,
    "start_time": "2021-12-02T10:41:24.189Z"
   },
   {
    "duration": 6110,
    "start_time": "2021-12-02T10:41:47.148Z"
   },
   {
    "duration": 1718,
    "start_time": "2021-12-02T10:42:02.541Z"
   },
   {
    "duration": 100,
    "start_time": "2021-12-02T10:42:04.261Z"
   },
   {
    "duration": 42,
    "start_time": "2021-12-02T10:42:04.365Z"
   },
   {
    "duration": 61,
    "start_time": "2021-12-02T10:42:04.411Z"
   },
   {
    "duration": 115,
    "start_time": "2021-12-02T10:42:04.475Z"
   },
   {
    "duration": 906,
    "start_time": "2021-12-02T10:42:04.592Z"
   },
   {
    "duration": 10,
    "start_time": "2021-12-02T10:42:05.501Z"
   },
   {
    "duration": 10,
    "start_time": "2021-12-02T10:42:05.516Z"
   },
   {
    "duration": 19,
    "start_time": "2021-12-02T10:42:05.529Z"
   },
   {
    "duration": 41,
    "start_time": "2021-12-02T10:42:05.551Z"
   },
   {
    "duration": 30,
    "start_time": "2021-12-02T10:42:05.595Z"
   },
   {
    "duration": 636,
    "start_time": "2021-12-02T10:42:05.628Z"
   },
   {
    "duration": 35,
    "start_time": "2021-12-02T10:42:06.266Z"
   },
   {
    "duration": 161,
    "start_time": "2021-12-02T10:42:06.304Z"
   },
   {
    "duration": 130,
    "start_time": "2021-12-02T10:42:06.467Z"
   },
   {
    "duration": 15,
    "start_time": "2021-12-02T10:42:06.600Z"
   },
   {
    "duration": 29,
    "start_time": "2021-12-02T10:42:06.618Z"
   },
   {
    "duration": 86,
    "start_time": "2021-12-02T10:42:06.650Z"
   },
   {
    "duration": 5609,
    "start_time": "2021-12-02T10:42:06.738Z"
   },
   {
    "duration": 9380,
    "start_time": "2021-12-02T10:42:12.350Z"
   },
   {
    "duration": 293,
    "start_time": "2021-12-02T10:42:21.733Z"
   },
   {
    "duration": 26,
    "start_time": "2021-12-02T10:42:22.029Z"
   },
   {
    "duration": 76,
    "start_time": "2021-12-02T10:42:22.060Z"
   },
   {
    "duration": 14,
    "start_time": "2021-12-02T10:42:22.139Z"
   },
   {
    "duration": 39,
    "start_time": "2021-12-02T10:42:22.156Z"
   },
   {
    "duration": 44,
    "start_time": "2021-12-02T10:42:22.198Z"
   },
   {
    "duration": 14,
    "start_time": "2021-12-02T10:42:22.245Z"
   },
   {
    "duration": 12,
    "start_time": "2021-12-02T10:42:22.261Z"
   },
   {
    "duration": 29,
    "start_time": "2021-12-02T10:42:22.291Z"
   },
   {
    "duration": 15,
    "start_time": "2021-12-02T10:42:22.323Z"
   },
   {
    "duration": 15,
    "start_time": "2021-12-02T10:42:22.341Z"
   },
   {
    "duration": 51,
    "start_time": "2021-12-02T10:42:22.359Z"
   },
   {
    "duration": 1668,
    "start_time": "2021-12-02T10:48:20.623Z"
   },
   {
    "duration": 102,
    "start_time": "2021-12-02T10:48:22.295Z"
   },
   {
    "duration": 27,
    "start_time": "2021-12-02T10:48:22.402Z"
   },
   {
    "duration": 83,
    "start_time": "2021-12-02T10:48:22.432Z"
   },
   {
    "duration": 134,
    "start_time": "2021-12-02T10:48:22.518Z"
   },
   {
    "duration": 718,
    "start_time": "2021-12-02T10:48:22.654Z"
   },
   {
    "duration": 14,
    "start_time": "2021-12-02T10:48:23.375Z"
   },
   {
    "duration": 29,
    "start_time": "2021-12-02T10:48:23.392Z"
   },
   {
    "duration": 17,
    "start_time": "2021-12-02T10:48:23.431Z"
   },
   {
    "duration": 6,
    "start_time": "2021-12-02T10:48:23.455Z"
   },
   {
    "duration": 28,
    "start_time": "2021-12-02T10:48:23.492Z"
   },
   {
    "duration": 870,
    "start_time": "2021-12-02T10:48:23.524Z"
   },
   {
    "duration": 29,
    "start_time": "2021-12-02T10:48:24.397Z"
   },
   {
    "duration": 176,
    "start_time": "2021-12-02T10:48:24.430Z"
   },
   {
    "duration": 87,
    "start_time": "2021-12-02T10:48:24.609Z"
   },
   {
    "duration": 23,
    "start_time": "2021-12-02T10:48:24.699Z"
   },
   {
    "duration": 28,
    "start_time": "2021-12-02T10:48:24.725Z"
   },
   {
    "duration": 100,
    "start_time": "2021-12-02T10:48:24.756Z"
   },
   {
    "duration": 5765,
    "start_time": "2021-12-02T10:48:24.859Z"
   },
   {
    "duration": 10431,
    "start_time": "2021-12-02T10:48:30.627Z"
   },
   {
    "duration": 214,
    "start_time": "2021-12-02T10:48:41.061Z"
   },
   {
    "duration": 41,
    "start_time": "2021-12-02T10:48:41.278Z"
   },
   {
    "duration": 78,
    "start_time": "2021-12-02T10:48:41.323Z"
   },
   {
    "duration": 51,
    "start_time": "2021-12-02T10:48:41.404Z"
   },
   {
    "duration": 33,
    "start_time": "2021-12-02T10:48:41.459Z"
   },
   {
    "duration": 17,
    "start_time": "2021-12-02T10:48:41.496Z"
   },
   {
    "duration": 16,
    "start_time": "2021-12-02T10:48:41.520Z"
   },
   {
    "duration": 52,
    "start_time": "2021-12-02T10:48:41.539Z"
   },
   {
    "duration": 11,
    "start_time": "2021-12-02T10:48:41.593Z"
   },
   {
    "duration": 14,
    "start_time": "2021-12-02T10:48:41.610Z"
   },
   {
    "duration": 54,
    "start_time": "2021-12-02T10:48:41.628Z"
   },
   {
    "duration": 13,
    "start_time": "2021-12-02T10:48:41.692Z"
   },
   {
    "duration": 16,
    "start_time": "2021-12-02T10:48:41.712Z"
   },
   {
    "duration": 2047,
    "start_time": "2021-12-02T10:56:35.105Z"
   },
   {
    "duration": 119,
    "start_time": "2021-12-02T10:56:37.156Z"
   },
   {
    "duration": 37,
    "start_time": "2021-12-02T10:56:37.278Z"
   },
   {
    "duration": 68,
    "start_time": "2021-12-02T10:56:37.319Z"
   },
   {
    "duration": 129,
    "start_time": "2021-12-02T10:56:37.390Z"
   },
   {
    "duration": 720,
    "start_time": "2021-12-02T10:56:37.523Z"
   },
   {
    "duration": 8,
    "start_time": "2021-12-02T10:56:38.245Z"
   },
   {
    "duration": 28,
    "start_time": "2021-12-02T10:56:38.257Z"
   },
   {
    "duration": 17,
    "start_time": "2021-12-02T10:56:38.290Z"
   },
   {
    "duration": 7,
    "start_time": "2021-12-02T10:56:38.311Z"
   },
   {
    "duration": 28,
    "start_time": "2021-12-02T10:56:38.323Z"
   },
   {
    "duration": 732,
    "start_time": "2021-12-02T10:56:38.353Z"
   },
   {
    "duration": 24,
    "start_time": "2021-12-02T10:56:39.089Z"
   },
   {
    "duration": 142,
    "start_time": "2021-12-02T10:56:39.116Z"
   },
   {
    "duration": 93,
    "start_time": "2021-12-02T10:56:39.260Z"
   },
   {
    "duration": 37,
    "start_time": "2021-12-02T10:56:39.355Z"
   },
   {
    "duration": 39,
    "start_time": "2021-12-02T10:56:39.395Z"
   },
   {
    "duration": 81,
    "start_time": "2021-12-02T10:56:39.437Z"
   },
   {
    "duration": 6637,
    "start_time": "2021-12-02T10:56:39.522Z"
   },
   {
    "duration": 10435,
    "start_time": "2021-12-02T10:56:46.163Z"
   },
   {
    "duration": 268,
    "start_time": "2021-12-02T10:56:56.601Z"
   },
   {
    "duration": 53,
    "start_time": "2021-12-02T10:56:56.881Z"
   },
   {
    "duration": 87,
    "start_time": "2021-12-02T10:56:56.941Z"
   },
   {
    "duration": 57,
    "start_time": "2021-12-02T10:56:57.032Z"
   },
   {
    "duration": 18,
    "start_time": "2021-12-02T10:56:57.091Z"
   },
   {
    "duration": 14,
    "start_time": "2021-12-02T10:56:57.114Z"
   },
   {
    "duration": 56,
    "start_time": "2021-12-02T10:56:57.132Z"
   },
   {
    "duration": 18,
    "start_time": "2021-12-02T10:56:57.191Z"
   },
   {
    "duration": 16,
    "start_time": "2021-12-02T10:56:57.212Z"
   },
   {
    "duration": 14,
    "start_time": "2021-12-02T10:56:57.231Z"
   },
   {
    "duration": 51,
    "start_time": "2021-12-02T10:56:57.247Z"
   },
   {
    "duration": 15,
    "start_time": "2021-12-02T10:56:57.301Z"
   },
   {
    "duration": 17,
    "start_time": "2021-12-02T10:56:57.320Z"
   },
   {
    "duration": 1100,
    "start_time": "2021-12-02T20:38:11.911Z"
   },
   {
    "duration": 63,
    "start_time": "2021-12-02T20:38:13.014Z"
   },
   {
    "duration": 11,
    "start_time": "2021-12-02T20:38:13.079Z"
   },
   {
    "duration": 37,
    "start_time": "2021-12-02T20:38:13.092Z"
   },
   {
    "duration": 77,
    "start_time": "2021-12-02T20:38:13.131Z"
   },
   {
    "duration": 338,
    "start_time": "2021-12-02T20:38:13.210Z"
   },
   {
    "duration": 6,
    "start_time": "2021-12-02T20:38:13.550Z"
   },
   {
    "duration": 6,
    "start_time": "2021-12-02T20:38:13.563Z"
   },
   {
    "duration": 26,
    "start_time": "2021-12-02T20:38:13.572Z"
   },
   {
    "duration": 10,
    "start_time": "2021-12-02T20:38:13.600Z"
   },
   {
    "duration": 21,
    "start_time": "2021-12-02T20:38:13.612Z"
   },
   {
    "duration": 333,
    "start_time": "2021-12-02T20:38:13.634Z"
   },
   {
    "duration": 10,
    "start_time": "2021-12-02T20:38:13.969Z"
   },
   {
    "duration": 70,
    "start_time": "2021-12-02T20:38:13.981Z"
   },
   {
    "duration": 44,
    "start_time": "2021-12-02T20:38:14.053Z"
   },
   {
    "duration": 8,
    "start_time": "2021-12-02T20:38:14.099Z"
   },
   {
    "duration": 30,
    "start_time": "2021-12-02T20:38:14.109Z"
   },
   {
    "duration": 38,
    "start_time": "2021-12-02T20:38:14.141Z"
   },
   {
    "duration": 3791,
    "start_time": "2021-12-02T20:38:14.182Z"
   },
   {
    "duration": 5449,
    "start_time": "2021-12-02T20:38:17.975Z"
   },
   {
    "duration": 162,
    "start_time": "2021-12-02T20:38:23.426Z"
   },
   {
    "duration": 19,
    "start_time": "2021-12-02T20:38:23.590Z"
   },
   {
    "duration": 29,
    "start_time": "2021-12-02T20:38:23.612Z"
   },
   {
    "duration": 36,
    "start_time": "2021-12-02T20:38:23.643Z"
   },
   {
    "duration": 11,
    "start_time": "2021-12-02T20:38:23.681Z"
   },
   {
    "duration": 6,
    "start_time": "2021-12-02T20:38:23.694Z"
   },
   {
    "duration": 8,
    "start_time": "2021-12-02T20:38:23.702Z"
   },
   {
    "duration": 7,
    "start_time": "2021-12-02T20:38:23.711Z"
   },
   {
    "duration": 4,
    "start_time": "2021-12-02T20:38:23.720Z"
   },
   {
    "duration": 39,
    "start_time": "2021-12-02T20:38:23.726Z"
   },
   {
    "duration": 8,
    "start_time": "2021-12-02T20:38:23.767Z"
   },
   {
    "duration": 6,
    "start_time": "2021-12-02T20:38:23.776Z"
   },
   {
    "duration": 9,
    "start_time": "2021-12-02T20:38:23.784Z"
   }
  ],
  "kernelspec": {
   "display_name": "Python 3 (ipykernel)",
   "language": "python",
   "name": "python3"
  },
  "language_info": {
   "codemirror_mode": {
    "name": "ipython",
    "version": 3
   },
   "file_extension": ".py",
   "mimetype": "text/x-python",
   "name": "python",
   "nbconvert_exporter": "python",
   "pygments_lexer": "ipython3",
   "version": "3.9.7"
  },
  "toc": {
   "base_numbering": 1,
   "nav_menu": {},
   "number_sections": true,
   "sideBar": true,
   "skip_h1_title": true,
   "title_cell": "Table of Contents",
   "title_sidebar": "Contents",
   "toc_cell": false,
   "toc_position": {},
   "toc_section_display": true,
   "toc_window_display": false
  }
 },
 "nbformat": 4,
 "nbformat_minor": 2
}
